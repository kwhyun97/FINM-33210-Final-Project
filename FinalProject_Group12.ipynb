{
 "cells": [
  {
   "cell_type": "markdown",
   "metadata": {},
   "source": [
    "# FINM 33210 Final Project"
   ]
  },
  {
   "cell_type": "markdown",
   "metadata": {},
   "source": [
    "This project will guide you through a typical buy-side quant research project, in which you will use some of the statistical learning methods discussed earlier in the course to analyze a multi-factor model of the type discussed in module 4. "
   ]
  },
  {
   "cell_type": "markdown",
   "metadata": {},
   "source": [
    "## Import Packages"
   ]
  },
  {
   "cell_type": "code",
   "execution_count": 4,
   "metadata": {},
   "outputs": [],
   "source": [
    "import pandas\n",
    "import pandas as pd\n",
    "import numpy as np\n",
    "import matplotlib.pyplot as plt\n",
    "import pickle\n",
    "from statsmodels.formula.api import ols\n",
    "from scipy.stats import gaussian_kde\n",
    "import scipy\n",
    "import scipy.sparse\n",
    "import patsy\n",
    "from statistics import median\n",
    "import bz2\n",
    "import math"
   ]
  },
  {
   "cell_type": "markdown",
   "metadata": {},
   "source": [
    "## Load Data\n",
    "\n",
    "In general, parsing text into numbers, dates, and other python data types can be done once, at the beginning of a research project, and the results can be saved to binary files. If the files are more than a few megabytes, use compression to avoid filling up your disk. In the following example, the model data has already been pre-processed and saved into pickle files, and the bz2 compression algorithm was used."
   ]
  },
  {
   "cell_type": "code",
   "execution_count": 5,
   "metadata": {},
   "outputs": [],
   "source": [
    "model_dir = '/Users/tb/Downloads/FinalProjectData/'\n",
    "\n",
    "def sort_cols(test): \n",
    "    return(test.reindex(sorted(test.columns), axis=1))\n",
    "\n",
    "frames = {}\n",
    "for year in [2004,2005,2006]:\n",
    "    fil = model_dir + \"pandas-frames.\" + str(year) + \".pickle.bz2\"\n",
    "    frames.update(pickle.load( bz2.open( fil, \"rb\" ) ))\n",
    "\n",
    "for x in frames: \n",
    "    frames[x] = sort_cols(frames[x])\n",
    "    \n",
    "covariance = {}\n",
    "for year in [2003,2004,2005,2006]:\n",
    "    fil = model_dir + \"covariance.\" + str(year) + \".pickle.bz2\"\n",
    "    covariance.update(pickle.load( bz2.open(fil, \"rb\" ) ))\n",
    "\n",
    "## the following dates array is used later for constructing time series plots\n",
    "\n",
    "my_dates = sorted(list(map(lambda date: pd.to_datetime(date, format='%Y%m%d'), frames.keys())))"
   ]
  },
  {
   "cell_type": "markdown",
   "metadata": {},
   "source": [
    "## Data Definitions\n",
    "\n",
    "After the above loading operation is finished, \"frames\" will be a dictionary keyed by date. For example, the string \"20040102\" is one such key. Accessing the value at this key, with frames[\"20040102\"], gives a data frame containing a daily cross section. Each row in the data frame corresponds to a particular stock, and there are many columns containing various attributes of the stock that have been collected. The meanings of the columns that we will use in this project are defined below; columns which may exist in the data, but not listed here, are not needed.\n",
    "\n",
    "\n",
    "- ID: a unique identifier that can be used to link stocks across time \n",
    "- DataDate: the date when the data would have been known, as of the close \n",
    "\n",
    "\n",
    "## Factors\n",
    "\n",
    "- 1DREVRSL: very short-term reversal, potential alpha factor but probably too fast-moving to be tradable \n",
    "- STREVRSL: short-term reversal, potential alpha factor \n",
    "- LTREVRSL: long-term reversal, potential risk factor \n",
    "- BETA: risk factor computed from CAPM beta regression\n",
    "- EARNQLTY: earnings quality, potential alpha factor \n",
    "- EARNYILD: earnings yield (blend of forecasted earnings and historical earnings divided by market cap) \n",
    "- GROWTH: mix of historical and forecasted earnings growth \n",
    "- INDMOM: industry momentum (relative historical performance of the other stocks in the same industry) \n",
    "- LEVERAGE: financial leverage of the company's balance sheet, usually a risk factor \n",
    "- LIQUIDTY: factor with high loadings for very liquidly traded names; usually a risk factor \n",
    "- MGMTQLTY: alpha factor which looks at quantitative measures of how well-run a company is by its management \n",
    "- MOMENTUM: 12-month growth in stock price, usually a risk factor \n",
    "- PROFIT: profitability, potential alpha factor \n",
    "- PROSPECT: based on skewness of the return distribution, potential risk factor \n",
    "- RESVOL: risk factor computed from residual volatility \n",
    "- SEASON: seasonality-based alpha factor \n",
    "- SENTMT: news sentiment alpha factor \n",
    "- SIZE: risk factor based on log(market capitalization) \n",
    "- VALUE: risk factor based on ratio of tangible book value to current price \n",
    "\n",
    "\n",
    "## Non-factor Attributes\n",
    "\n",
    "- Ret: asset's total return on the next day after the factor loadings are known, suitable as the Y vector in a regression analysis \n",
    "- SpecRisk: specific risk is another name for predicted residual volatility. We called this the D matrix in our discussion of APT models. \n",
    "- TotalRisk: predicted total vol, including factor and idiosyncratic contributions, annualized \n",
    "- Yield: the dividend yield of the asset \n",
    "- HistBeta: historically estimated CAPM beta coefficient \n",
    "- PredBeta: model-predicted beta coefficient in the future \n",
    "- IssuerMarketCap: aggregate market capitalization of the company (all share classes from the same issuer)\n",
    "- BidAskSpread: bid-offer spread (average for the day) \n",
    "- CompositeVolume: composite trading volume for the day \n",
    "\n",
    "\n",
    "\n",
    "## Industry factors\n",
    "\n",
    "\n",
    "'AERODEF', 'AIRLINES', 'ALUMSTEL', 'APPAREL', 'AUTO',\n",
    "       'BANKS','BEVTOB', 'BIOLIFE', 'BLDGPROD','CHEM', 'CNSTENG', 'CNSTMACH', 'CNSTMATL', 'COMMEQP', 'COMPELEC',\n",
    "       'COMSVCS', 'CONGLOM', 'CONTAINR', 'DISTRIB',\n",
    "       'DIVFIN', 'ELECEQP', 'ELECUTIL', 'FOODPROD', 'FOODRET', 'GASUTIL',\n",
    "       'HLTHEQP', 'HLTHSVCS', 'HOMEBLDG', 'HOUSEDUR','INDMACH', 'INSURNCE', 'INTERNET', \n",
    "        'LEISPROD', 'LEISSVCS', 'LIFEINS', 'MEDIA', 'MGDHLTH','MULTUTIL',\n",
    "       'OILGSCON', 'OILGSDRL', 'OILGSEQP', 'OILGSEXP', 'PAPER', 'PHARMA',\n",
    "       'PRECMTLS','PSNLPROD','REALEST',\n",
    "       'RESTAUR', 'ROADRAIL','SEMICOND', 'SEMIEQP','SOFTWARE', 'SPLTYRET', 'SPTYCHEM', 'SPTYSTOR',\n",
    "       'TELECOM', 'TRADECO', 'TRANSPRT', 'WIRELESS'"
   ]
  },
  {
   "cell_type": "markdown",
   "metadata": {},
   "source": [
    "## Data Cleaning and Winsorization\n",
    "\n",
    "The distribution of many statistics can be heavily influenced by outliers. A simple approach to robustifying parameter estimation procedures is to set all outliers to a specified percentile of the data; for example, a 90% winsorization would see all data below the 5th percentile set to the 5th percentile, and data above the 95th percentile set to the 95th percentile. Winsorized estimators are usually more robust to outliers than their more standard forms."
   ]
  },
  {
   "cell_type": "code",
   "execution_count": 6,
   "metadata": {},
   "outputs": [],
   "source": [
    "def wins(x,a,b):\n",
    "    return(np.where(x <= a,a, np.where(x >= b, b, x)))\n",
    "\n",
    "def clean_nas(df): \n",
    "    numeric_columns = df.select_dtypes(include=[np.number]).columns.tolist()\n",
    "    \n",
    "    for numeric_column in numeric_columns: \n",
    "        df[numeric_column] = np.nan_to_num(df[numeric_column])\n",
    "    \n",
    "    return df"
   ]
  },
  {
   "cell_type": "markdown",
   "metadata": {},
   "source": [
    "We can check the distribution of returns with a density plot, both before and after winsorization to observe the effect of trimming the tails."
   ]
  },
  {
   "cell_type": "code",
   "execution_count": 7,
   "metadata": {},
   "outputs": [
    {
     "data": {
      "image/png": "[encoded data removed]",
      "text/plain": [
       "<Figure size 640x480 with 1 Axes>"
      ]
     },
     "metadata": {},
     "output_type": "display_data"
    },
    {
     "data": {
      "image/png": "[encoded data removed]",
      "text/plain": [
       "<Figure size 640x480 with 1 Axes>"
      ]
     },
     "metadata": {},
     "output_type": "display_data"
    },
    {
     "data": {
      "image/png": "[encoded data removed]",
      "text/plain": [
       "<Figure size 640x480 with 1 Axes>"
      ]
     },
     "metadata": {},
     "output_type": "display_data"
    }
   ],
   "source": [
    "def density_plot(data, title): \n",
    "    density = gaussian_kde(data)\n",
    "    xs = np.linspace(np.min(data),np.max(data),200)\n",
    "    density.covariance_factor = lambda : .25\n",
    "    density._compute_covariance()\n",
    "    plt.plot(xs,density(xs))\n",
    "    plt.title(title)\n",
    "    plt.show()\n",
    "    \n",
    "test = frames['20040102']\n",
    "density_plot(test['Ret'], 'Daily return pre-winsorization')\n",
    "density_plot(wins(test['Ret'],-0.2,0.2), 'Daily return winsorized')\n",
    "\n",
    "D = (test['SpecRisk'] / (100 * math.sqrt(252))) ** 2\n",
    "density_plot(np.sqrt(D), 'SpecRisk')"
   ]
  },
  {
   "cell_type": "markdown",
   "metadata": {},
   "source": [
    "# Factors"
   ]
  },
  {
   "cell_type": "markdown",
   "metadata": {},
   "source": [
    "## Factor Exposures and Factor Returns\n",
    "\n",
    "\n",
    "Arbitrage pricing theory relaxes several of the assumptions made in the course of deriving \n",
    "the CAPM. In particular, we relax the assumption that all investors do the same optimization \n",
    "and hence that there is a single efficient fund. This allows the possibility that a CAPM-like \n",
    "relation may hold, but with multiple underlying sources of risk. \n",
    "\n",
    "Specifically, let $r_i, i = 1, \\ldots, n$ denote the cross-section of asset returns over a given \n",
    "time period $[t, t+1]$. In a fully-general model, the multivariate distribution $p(\\mathbf{r})$ could have \n",
    "arbitrary covariance and higher-moment structures, but remember that for $n$ large there is \n",
    "typically never enough data to estimate such over-parameterized models. \n",
    "\n",
    "Instead, we assume a\n",
    "structural model which is the most direct generalization of the CAPM: \n",
    "$$\n",
    "\tr_i = \\beta_{i, 1} f_1 + \\beta_{i,2} f_2 + \\dots + \\beta_{i, p} f_p + \\epsilon_i, \\quad \n",
    "\t\\epsilon_i \\sim N(0, \\sigma_i^2)  \n",
    "$$\n",
    "If $p = 1$, this reduces to the Capital Asset Pricing Model (CAPM) in a rather direct way. \n",
    "\n",
    "With $p > 1$, the model starts to differ from the CAPM \n",
    "in several very important aspects. In the CAPM, we were \n",
    "able to identify the single efficient fund by arguing that its weights must equal the \n",
    "market-capitalization weights. Hence we were given for free a very nice proxy for the \n",
    "single efficient fund: a capitalization-weighted basket such as the Russell 3000. \n",
    "Hence in the $p=1$ case we had a convenient proxy which could be used to impute \n",
    "the return $f_1$, which we called $r_M$. Also $\\beta_{i, 1}$ could be estimated, with \n",
    "no more than the usual statistical estimation error, by time-series regression. \n",
    "\n",
    "If $p > 1$ then the underlying assumptions of that argument break down: there is no\n",
    "longer any simple way to identify $f_{j}$ nor $\\beta_{i, j}$ ($j = 1, \\ldots, p$). \n",
    "We shall return to the estimation problem in due course. \n",
    "\n",
    "\n",
    "To avoid confusion with the CAPM, and its simplistic $\\beta$ coefficient (which is still \n",
    "sometimes used in larger multi-factor models), it is conventional to make the following \n",
    "notation change: $\\beta_{i,j}$ becomes $X_{i,j}$ and so the model equation becomes \n",
    "$$\n",
    "\t \tr_i = X_{i, 1} f_1 + X_{i,2} f_2 + \\dots + X_{i, p} f_p + \\epsilon_i, \\quad \n",
    "\t\\epsilon_i \\sim N(0, \\sigma_i^2)  \n",
    "$$\n",
    "It's difficult to simultaneously estimate both all components $X_{i,j}$ and all risk-source \n",
    "returns $f_j$, so one usually assumes one is known and calculates the other via regression. \n",
    "In what follows, we focus on the approach where $X$ is known, and the $f_j$ are assumed\n",
    "to be hidden (aka latent) variables.\n",
    "\n",
    "The structural equation is more conveniently expressed in matrix form: \n",
    "$$\n",
    "\tR_{t+1} = X_t f_{t+1} + \\epsilon_{t+1}, \\quad E[\\epsilon] = 0, \\ \\ V[\\epsilon] = D \n",
    "$$\n",
    "where $R_{t+1}$ is an $n$-dimensional random vector containing the \n",
    "cross-section of returns in excess of the risk-free rate over some \n",
    "time interval $[t, t+1]$, and $X_t$ is a (non-random) $n \\times p$ matrix \n",
    "that can be calculated entirely from data known before time $t$.\n",
    "The variable $f$ in denotes a $p$-dimensional random vector\n",
    "process which cannot be observed directly. \n",
    "\n",
    "Since the variable $f$ denotes a $p$-dimensional random vector process which cannot \n",
    "be observed directly, information about the $f$-process must be obtained via statistical inference. \n",
    "We assume that the $f$-process has finite first and second moments given by \n",
    "$$\n",
    "\tE[f] = \\mu_f, \\ \\text{ and } \\  V[f] = F . \n",
    "$$ \n",
    "The primary outputs of a statistical inference process are the parameters \n",
    "$\\mu_f$ and $F$, and other outputs one might be interested in\n",
    "include estimates of the daily realizations $\\hat{f}_{t+1}$. \n",
    "\n",
    "The simplest way of estimating historical daily realizations of $\\hat{f}_{t+1}$ is by least-squares (ordinary or weighted, as appropriate), viewing the defining \n",
    "model equation as a regression problem. "
   ]
  },
  {
   "cell_type": "code",
   "execution_count": 8,
   "metadata": {},
   "outputs": [],
   "source": [
    "industry_factors = ['AERODEF', 'AIRLINES', 'ALUMSTEL', 'APPAREL', 'AUTO',\n",
    "       'BANKS','BEVTOB', 'BIOLIFE', 'BLDGPROD','CHEM', 'CNSTENG', 'CNSTMACH', 'CNSTMATL', 'COMMEQP', 'COMPELEC',\n",
    "       'COMSVCS', 'CONGLOM', 'CONTAINR', 'DISTRIB',\n",
    "       'DIVFIN', 'ELECEQP', 'ELECUTIL', 'FOODPROD', 'FOODRET', 'GASUTIL',\n",
    "       'HLTHEQP', 'HLTHSVCS', 'HOMEBLDG', 'HOUSEDUR','INDMACH', 'INSURNCE', 'INTERNET', \n",
    "        'LEISPROD', 'LEISSVCS', 'LIFEINS', 'MEDIA', 'MGDHLTH','MULTUTIL',\n",
    "       'OILGSCON', 'OILGSDRL', 'OILGSEQP', 'OILGSEXP', 'PAPER', 'PHARMA',\n",
    "       'PRECMTLS','PSNLPROD','REALEST',\n",
    "       'RESTAUR', 'ROADRAIL','SEMICOND', 'SEMIEQP','SOFTWARE', 'SPLTYRET', 'SPTYCHEM', 'SPTYSTOR',\n",
    "       'TELECOM', 'TRADECO', 'TRANSPRT', 'WIRELESS']\n",
    "\n",
    "style_factors = ['BETA', 'SIZE', 'MOMENTUM', 'VALUE', 'GROWTH', 'LEVERAGE', 'LIQUIDTY', \n",
    "                 'DIVYILD', 'LTREVRSL', 'EARNQLTY']\n",
    "\n",
    "## an R-style formula which can be used to construct a cross sectional regression\n",
    "def get_formula(alphas, Y):\n",
    "    L = [\"0\"]\n",
    "    L.extend(alphas)\n",
    "    L.extend(style_factors)\n",
    "    L.extend(industry_factors)\n",
    "    return Y + \" ~ \" + \" + \".join(L)\n",
    "\n",
    "## The term 'estu' is short for estimation universe\n",
    "def get_estu(df): \n",
    "    estu = df.loc[df.IssuerMarketCap > 1e9].copy(deep=True)\n",
    "    return estu\n",
    "\n",
    "def estimate_factor_returns(df, alphas): \n",
    "    ## build universe based on filters \n",
    "    estu = get_estu(df)\n",
    "    \n",
    "    ## winsorize returns for fitting \n",
    "    estu['Ret'] = wins(estu['Ret'], -0.25, 0.25)\n",
    "    \n",
    "    model = ols(get_formula(alphas, \"Ret\"), data=estu)\n",
    "    return(model.fit())"
   ]
  },
  {
   "cell_type": "markdown",
   "metadata": {},
   "source": [
    "## Alpha factor selection\n",
    "\n",
    "In a real trading scenario, alpha factor construction would be the culmination of a very long research process, usually undertaken by experts in financial markets and requiring time and ingenuity. \n",
    "For this exercise, we consider several well-known alpha factors from the list above. \n",
    "\n",
    "Running one OLS per day over several years, where each OLS involves several thousand observations and about 50-100 independent variables, takes a few minutes."
   ]
  },
  {
   "cell_type": "code",
   "execution_count": 9,
   "metadata": {},
   "outputs": [],
   "source": [
    "alpha_factors = ['STREVRSL', 'MGMTQLTY', 'SENTMT', 'EARNYILD', 'SEASON', 'INDMOM']"
   ]
  },
  {
   "cell_type": "code",
   "execution_count": 125,
   "metadata": {},
   "outputs": [],
   "source": [
    "facret = {}\n",
    "\n",
    "for date in frames:\n",
    "    facret[date] = estimate_factor_returns(frames[date], list(alpha_factors)).params"
   ]
  },
  {
   "cell_type": "markdown",
   "metadata": {},
   "source": [
    "We now have a multivariate time series of factor returns stored in the variable facret. We can plot the cumulative sum of the factor returns. "
   ]
  },
  {
   "cell_type": "code",
   "execution_count": 148,
   "metadata": {},
   "outputs": [
    {
     "data": {
      "text/plain": [
       "<AxesSubplot:>"
      ]
     },
     "execution_count": 148,
     "metadata": {},
     "output_type": "execute_result"
    },
    {
     "data": {
      "image/png": "[encoded data removed]",
      "text/plain": [
       "<Figure size 640x480 with 1 Axes>"
      ]
     },
     "metadata": {},
     "output_type": "display_data"
    }
   ],
   "source": [
    "facret_df = pd.DataFrame(index = my_dates)\n",
    "\n",
    "for dt in my_dates: \n",
    "    for alp in alpha_factors: \n",
    "        facret_df.at[dt, alp] = facret[dt.strftime('%Y%m%d')][alp]\n",
    "\n",
    "facret_df.cumsum().plot()"
   ]
  },
  {
   "cell_type": "markdown",
   "metadata": {},
   "source": [
    "The following table gives the vector called $\\mu_f$ in lecture."
   ]
  },
  {
   "cell_type": "code",
   "execution_count": 12,
   "metadata": {},
   "outputs": [
    {
     "name": "stdout",
     "output_type": "stream",
     "text": [
      "STREVRSL    0.000271\n",
      "MGMTQLTY    0.000028\n",
      "SENTMT      0.000095\n",
      "EARNYILD    0.000122\n",
      "SEASON      0.000080\n",
      "INDMOM      0.000050\n",
      "dtype: float64\n"
     ]
    }
   ],
   "source": [
    "print(facret_df.mean())"
   ]
  },
  {
   "cell_type": "markdown",
   "metadata": {},
   "source": [
    "## Helpful code to show how to get X, F, D matrices for a particular date"
   ]
  },
  {
   "cell_type": "code",
   "execution_count": 13,
   "metadata": {},
   "outputs": [],
   "source": [
    "def colnames(X):\n",
    "    if(type(X) == patsy.design_info.DesignMatrix): \n",
    "        return(X.design_info.column_names)\n",
    "    if(type(X) == pandas.core.frame.DataFrame): \n",
    "        return(X.columns.tolist())\n",
    "    return(None)\n",
    "\n",
    "def diagonal_factor_cov(date, X):\n",
    "    cv = covariance[date]\n",
    "    k = np.shape(X)[1]\n",
    "    Fm = np.zeros([k,k])\n",
    "    for j in range(0,k): \n",
    "        fac = colnames(X)[j]\n",
    "        Fm[j,j] = (0.01**2) * cv.loc[(cv.Factor1==fac) & (cv.Factor2==fac),\"VarCovar\"].iloc[0]\n",
    "    return(Fm)\n",
    "\n",
    "def risk_exposures(estu): \n",
    "    L = [\"0\"]\n",
    "    L.extend(style_factors)\n",
    "    L.extend(industry_factors)\n",
    "    my_formula = \" + \".join(L)\n",
    "    return patsy.dmatrix(my_formula, data = estu)"
   ]
  },
  {
   "cell_type": "code",
   "execution_count": 14,
   "metadata": {},
   "outputs": [
    {
     "name": "stdout",
     "output_type": "stream",
     "text": [
      "[[0.00348478 0.         0.         ... 0.         0.         0.        ]\n",
      " [0.         0.00061952 0.         ... 0.         0.         0.        ]\n",
      " [0.         0.         0.00042807 ... 0.         0.         0.        ]\n",
      " ...\n",
      " [0.         0.         0.         ... 0.00521378 0.         0.        ]\n",
      " [0.         0.         0.         ... 0.         0.00726435 0.        ]\n",
      " [0.         0.         0.         ... 0.         0.         0.02185539]]\n"
     ]
    }
   ],
   "source": [
    "my_date = '20040102'\n",
    "\n",
    "# estu = estimation universe\n",
    "estu = get_estu(frames[my_date])\n",
    "n = estu.shape[0]\n",
    "\n",
    "estu['Ret'] = wins(estu['Ret'], -0.25, 0.25)\n",
    "\n",
    "rske = risk_exposures(estu)\n",
    "F = diagonal_factor_cov(my_date, rske)\n",
    "\n",
    "X = np.asarray(rske)\n",
    "D = np.asarray( (estu['SpecRisk'] / (100 * math.sqrt(252))) ** 2 )\n",
    "\n",
    "kappa = 1e-5\n",
    "\n",
    "print(F)"
   ]
  },
  {
   "cell_type": "markdown",
   "metadata": {},
   "source": [
    "### Problem 1. \n",
    "\n",
    "Consider the list of potential alpha factors whose factor returns were plotted above. Consider ways of combining all of the alpha factors into a single, composite alpha factor. The goal is to produce a composite alpha factor which does the best job of predicting the dependent variable \"Ret\" on out-of-sample data. Restrict your training set on each day to the estimation universe that was used above in get_estu. Take the period 2008-2010 as the ultimate test set which you will hold in a \"vault\" until you are ready to do a final evaluation of your composite alpha factor. Use the period 2003-2007 for training/validation. Use cross-validation to select a model from the full family of models you are considering. It could be as simple as lasso, but we encourage you to be creative and try non-linear combinations of factors as well. Use methods from the course. \n",
    "\n",
    "\n",
    "### Problem 2. \n",
    "\n",
    "Referring to formula (4.3) for the Markowitz portfolio, and the covariance matrix in (4.29), code up a function to compute the Markowitz portfolio for each date in our sample. Refer to the helpful code above to get the different pieces in (4.29). For the risk-aversion constant, use $\\kappa$ = 1e-5. Restrict yourself to the estimation universe that was used above in get_estu. Use your composite alpha factor from Problem 1 as the substitute for $ \\mathbb{E}[\\mathbf{r}]$. It is recommended to use the fast inversion formula (4.32) to speed things up. Compute the dot product of your portfolio with the return, that is compute $\\mathbf{h} \\cdot \\mathbf{r}$ for each date in the sample, and plot the cumulative sum of the results. For $\\mathbf{r}$, use the column called \"Ret\" in the same data frame that was used to compute the portfolio itself. \n",
    "\n",
    "### Extra credit\n",
    "\n",
    "Plot other interesting metrics which help understand the portfolios in problem 2. For example, plot their long/short/net in dollars, number of holdings, factor model's predicted volatility of the portfolio, percent of variance from idio, style, industry. \n",
    "\n",
    "### Teamwork\n",
    "\n",
    "Note that problem 2 only needs the output from Problem 1, but it does not depend on the details of how Problem 1 is being solved. So a team could split up along those lines. Part of the team can start on Problem 2, just assuming the output from problem 1 is, say, a single one of the alpha factors, until the part of the team doing problem 1 has something more interesting. "
   ]
  },
  {
   "attachments": {},
   "cell_type": "markdown",
   "metadata": {},
   "source": [
    "# Problem 1"
   ]
  },
  {
   "cell_type": "code",
   "execution_count": 15,
   "metadata": {},
   "outputs": [],
   "source": [
    "from sklearn.preprocessing import StandardScaler\n",
    "from sklearn.decomposition import PCA, TruncatedSVD\n",
    "from sklearn import linear_model"
   ]
  },
  {
   "cell_type": "code",
   "execution_count": 173,
   "metadata": {},
   "outputs": [
    {
     "data": {
      "text/html": [
       "<div>\n",
       "<style scoped>\n",
       "    .dataframe tbody tr th:only-of-type {\n",
       "        vertical-align: middle;\n",
       "    }\n",
       "\n",
       "    .dataframe tbody tr th {\n",
       "        vertical-align: top;\n",
       "    }\n",
       "\n",
       "    .dataframe thead th {\n",
       "        text-align: right;\n",
       "    }\n",
       "</style>\n",
       "<table border=\"1\" class=\"dataframe\">\n",
       "  <thead>\n",
       "    <tr style=\"text-align: right;\">\n",
       "      <th></th>\n",
       "      <th>STREVRSL</th>\n",
       "      <th>MGMTQLTY</th>\n",
       "      <th>SENTMT</th>\n",
       "      <th>EARNYILD</th>\n",
       "      <th>SEASON</th>\n",
       "      <th>INDMOM</th>\n",
       "      <th>med_Ret</th>\n",
       "      <th>PCA</th>\n",
       "      <th>PCA_ret</th>\n",
       "    </tr>\n",
       "  </thead>\n",
       "  <tbody>\n",
       "    <tr>\n",
       "      <th>2004-01-02</th>\n",
       "      <td>0.002536</td>\n",
       "      <td>0.000154</td>\n",
       "      <td>0.000819</td>\n",
       "      <td>0.000624</td>\n",
       "      <td>0.000715</td>\n",
       "      <td>-0.000223</td>\n",
       "      <td>0.065256</td>\n",
       "      <td>1.453539</td>\n",
       "      <td>0.001202</td>\n",
       "    </tr>\n",
       "    <tr>\n",
       "      <th>2004-01-05</th>\n",
       "      <td>0.001079</td>\n",
       "      <td>-0.000217</td>\n",
       "      <td>0.001105</td>\n",
       "      <td>-0.000891</td>\n",
       "      <td>0.000381</td>\n",
       "      <td>-0.000451</td>\n",
       "      <td>0.058482</td>\n",
       "      <td>2.300040</td>\n",
       "      <td>0.001606</td>\n",
       "    </tr>\n",
       "    <tr>\n",
       "      <th>2004-01-06</th>\n",
       "      <td>0.000736</td>\n",
       "      <td>-0.001236</td>\n",
       "      <td>0.002660</td>\n",
       "      <td>-0.002076</td>\n",
       "      <td>-0.000577</td>\n",
       "      <td>-0.000033</td>\n",
       "      <td>0.041739</td>\n",
       "      <td>4.290614</td>\n",
       "      <td>0.002937</td>\n",
       "    </tr>\n",
       "    <tr>\n",
       "      <th>2004-01-07</th>\n",
       "      <td>0.000728</td>\n",
       "      <td>0.000393</td>\n",
       "      <td>0.000721</td>\n",
       "      <td>0.000512</td>\n",
       "      <td>-0.001034</td>\n",
       "      <td>0.000422</td>\n",
       "      <td>0.060077</td>\n",
       "      <td>-0.035741</td>\n",
       "      <td>0.000158</td>\n",
       "    </tr>\n",
       "    <tr>\n",
       "      <th>2004-01-08</th>\n",
       "      <td>-0.000319</td>\n",
       "      <td>0.000753</td>\n",
       "      <td>0.001189</td>\n",
       "      <td>0.000801</td>\n",
       "      <td>-0.001006</td>\n",
       "      <td>0.000057</td>\n",
       "      <td>0.017028</td>\n",
       "      <td>-0.167630</td>\n",
       "      <td>-0.000158</td>\n",
       "    </tr>\n",
       "    <tr>\n",
       "      <th>...</th>\n",
       "      <td>...</td>\n",
       "      <td>...</td>\n",
       "      <td>...</td>\n",
       "      <td>...</td>\n",
       "      <td>...</td>\n",
       "      <td>...</td>\n",
       "      <td>...</td>\n",
       "      <td>...</td>\n",
       "      <td>...</td>\n",
       "    </tr>\n",
       "    <tr>\n",
       "      <th>2006-12-22</th>\n",
       "      <td>-0.000059</td>\n",
       "      <td>-0.000234</td>\n",
       "      <td>-0.000411</td>\n",
       "      <td>0.000950</td>\n",
       "      <td>0.000140</td>\n",
       "      <td>0.000099</td>\n",
       "      <td>0.012061</td>\n",
       "      <td>-0.776558</td>\n",
       "      <td>-0.000551</td>\n",
       "    </tr>\n",
       "    <tr>\n",
       "      <th>2006-12-26</th>\n",
       "      <td>-0.000097</td>\n",
       "      <td>0.000028</td>\n",
       "      <td>0.000165</td>\n",
       "      <td>0.000365</td>\n",
       "      <td>0.000571</td>\n",
       "      <td>0.000193</td>\n",
       "      <td>0.004482</td>\n",
       "      <td>-0.478018</td>\n",
       "      <td>-0.000275</td>\n",
       "    </tr>\n",
       "    <tr>\n",
       "      <th>2006-12-27</th>\n",
       "      <td>-0.000623</td>\n",
       "      <td>0.000325</td>\n",
       "      <td>-0.000387</td>\n",
       "      <td>-0.000926</td>\n",
       "      <td>0.000653</td>\n",
       "      <td>0.000083</td>\n",
       "      <td>0.020207</td>\n",
       "      <td>-0.637943</td>\n",
       "      <td>-0.000324</td>\n",
       "    </tr>\n",
       "    <tr>\n",
       "      <th>2006-12-28</th>\n",
       "      <td>-0.001413</td>\n",
       "      <td>-0.000199</td>\n",
       "      <td>-0.000114</td>\n",
       "      <td>0.000246</td>\n",
       "      <td>0.001355</td>\n",
       "      <td>0.000070</td>\n",
       "      <td>0.076892</td>\n",
       "      <td>-1.047136</td>\n",
       "      <td>-0.000837</td>\n",
       "    </tr>\n",
       "    <tr>\n",
       "      <th>2006-12-29</th>\n",
       "      <td>0.002548</td>\n",
       "      <td>-0.000916</td>\n",
       "      <td>0.000380</td>\n",
       "      <td>0.000229</td>\n",
       "      <td>0.000065</td>\n",
       "      <td>-0.000164</td>\n",
       "      <td>0.034604</td>\n",
       "      <td>2.178167</td>\n",
       "      <td>0.001644</td>\n",
       "    </tr>\n",
       "  </tbody>\n",
       "</table>\n",
       "<p>755 rows × 9 columns</p>\n",
       "</div>"
      ],
      "text/plain": [
       "            STREVRSL  MGMTQLTY    SENTMT  EARNYILD    SEASON    INDMOM  \\\n",
       "2004-01-02  0.002536  0.000154  0.000819  0.000624  0.000715 -0.000223   \n",
       "2004-01-05  0.001079 -0.000217  0.001105 -0.000891  0.000381 -0.000451   \n",
       "2004-01-06  0.000736 -0.001236  0.002660 -0.002076 -0.000577 -0.000033   \n",
       "2004-01-07  0.000728  0.000393  0.000721  0.000512 -0.001034  0.000422   \n",
       "2004-01-08 -0.000319  0.000753  0.001189  0.000801 -0.001006  0.000057   \n",
       "...              ...       ...       ...       ...       ...       ...   \n",
       "2006-12-22 -0.000059 -0.000234 -0.000411  0.000950  0.000140  0.000099   \n",
       "2006-12-26 -0.000097  0.000028  0.000165  0.000365  0.000571  0.000193   \n",
       "2006-12-27 -0.000623  0.000325 -0.000387 -0.000926  0.000653  0.000083   \n",
       "2006-12-28 -0.001413 -0.000199 -0.000114  0.000246  0.001355  0.000070   \n",
       "2006-12-29  0.002548 -0.000916  0.000380  0.000229  0.000065 -0.000164   \n",
       "\n",
       "             med_Ret       PCA   PCA_ret  \n",
       "2004-01-02  0.065256  1.453539  0.001202  \n",
       "2004-01-05  0.058482  2.300040  0.001606  \n",
       "2004-01-06  0.041739  4.290614  0.002937  \n",
       "2004-01-07  0.060077 -0.035741  0.000158  \n",
       "2004-01-08  0.017028 -0.167630 -0.000158  \n",
       "...              ...       ...       ...  \n",
       "2006-12-22  0.012061 -0.776558 -0.000551  \n",
       "2006-12-26  0.004482 -0.478018 -0.000275  \n",
       "2006-12-27  0.020207 -0.637943 -0.000324  \n",
       "2006-12-28  0.076892 -1.047136 -0.000837  \n",
       "2006-12-29  0.034604  2.178167  0.001644  \n",
       "\n",
       "[755 rows x 9 columns]"
      ]
     },
     "execution_count": 173,
     "metadata": {},
     "output_type": "execute_result"
    }
   ],
   "source": [
    "med_ret = []\n",
    "for k in frames.keys():\n",
    "    med_ret.append(frames[k].Ret.mean())\n",
    "\n",
    "facret_df['med_Ret'] = med_ret\n",
    "\n",
    "# PCA\n",
    "\n",
    "x = facret_df.loc[:, alpha_factors].values\n",
    "y = facret_df.loc[:,['med_Ret']].values\n",
    "x = StandardScaler().fit_transform(x)\n",
    "\n",
    "pca = PCA(n_components = 1) #'n_components = 'mle' , svd_solver='full\n",
    "principalComponents = pca.fit_transform(x)\n",
    "\n",
    "facret_df['PCA'] = principalComponents \n",
    "# facret_df['PCA_ret']  = facret_df['med_Ret'] *  facret_df['PCA']\n",
    "# facret_df['PCA_ret'] =  facret_df['med_Ret'].values.reshape(-1, 1).dot(principalComponents .T )\n",
    "facret_df['PCA_ret'] =  facret_df[alpha_factors].dot(pca.components_.T )\n",
    "\n",
    "\n",
    "facret_df"
   ]
  },
  {
   "cell_type": "code",
   "execution_count": 174,
   "metadata": {},
   "outputs": [
    {
     "data": {
      "text/plain": [
       "array([0.20879388])"
      ]
     },
     "execution_count": 174,
     "metadata": {},
     "output_type": "execute_result"
    }
   ],
   "source": [
    "pca.explained_variance_ratio_"
   ]
  },
  {
   "cell_type": "code",
   "execution_count": 175,
   "metadata": {},
   "outputs": [
    {
     "data": {
      "text/plain": [
       "<matplotlib.collections.PathCollection at 0x7fef02537850>"
      ]
     },
     "execution_count": 175,
     "metadata": {},
     "output_type": "execute_result"
    },
    {
     "data": {
      "image/png": "[encoded data removed]",
      "text/plain": [
       "<Figure size 640x480 with 1 Axes>"
      ]
     },
     "metadata": {},
     "output_type": "display_data"
    }
   ],
   "source": [
    "plt.scatter(x= facret_df.index.values, y= facret_df['med_Ret'] , alpha=0.6)\n",
    "plt.scatter(x= facret_df.index.values, y= facret_df['PCA_ret'] , alpha=0.6)"
   ]
  },
  {
   "cell_type": "code",
   "execution_count": 176,
   "metadata": {},
   "outputs": [
    {
     "data": {
      "text/plain": [
       "<AxesSubplot:>"
      ]
     },
     "execution_count": 176,
     "metadata": {},
     "output_type": "execute_result"
    },
    {
     "data": {
      "image/png": "[encoded data removed]",
      "text/plain": [
       "<Figure size 640x480 with 1 Axes>"
      ]
     },
     "metadata": {},
     "output_type": "display_data"
    }
   ],
   "source": [
    "facret_df[['med_Ret','PCA_ret']].cumsum().plot()"
   ]
  },
  {
   "cell_type": "code",
   "execution_count": 22,
   "metadata": {},
   "outputs": [],
   "source": [
    "lasso = linear_model.Lasso(alpha = 0.01, fit_intercept = False,  max_iter=1e5) \n",
    "lasso_fit = lasso.fit(x, y)\n",
    "pred = lasso_fit.predict(x)"
   ]
  },
  {
   "cell_type": "code",
   "execution_count": null,
   "metadata": {},
   "outputs": [
    {
     "data": {
      "text/html": [
       "<div>\n",
       "<style scoped>\n",
       "    .dataframe tbody tr th:only-of-type {\n",
       "        vertical-align: middle;\n",
       "    }\n",
       "\n",
       "    .dataframe tbody tr th {\n",
       "        vertical-align: top;\n",
       "    }\n",
       "\n",
       "    .dataframe thead th {\n",
       "        text-align: right;\n",
       "    }\n",
       "</style>\n",
       "<table border=\"1\" class=\"dataframe\">\n",
       "  <thead>\n",
       "    <tr style=\"text-align: right;\">\n",
       "      <th></th>\n",
       "      <th>STREVRSL</th>\n",
       "      <th>MGMTQLTY</th>\n",
       "      <th>SENTMT</th>\n",
       "      <th>EARNYILD</th>\n",
       "      <th>SEASON</th>\n",
       "      <th>INDMOM</th>\n",
       "      <th>avg_Ret</th>\n",
       "      <th>PCA</th>\n",
       "      <th>PCA_ret</th>\n",
       "    </tr>\n",
       "  </thead>\n",
       "  <tbody>\n",
       "    <tr>\n",
       "      <th>2004-01-02</th>\n",
       "      <td>0.002536</td>\n",
       "      <td>0.000154</td>\n",
       "      <td>0.000819</td>\n",
       "      <td>0.000624</td>\n",
       "      <td>0.000715</td>\n",
       "      <td>-0.000223</td>\n",
       "      <td>0.0</td>\n",
       "      <td>1.453539</td>\n",
       "      <td>0.001202</td>\n",
       "    </tr>\n",
       "    <tr>\n",
       "      <th>2004-01-05</th>\n",
       "      <td>0.001079</td>\n",
       "      <td>-0.000217</td>\n",
       "      <td>0.001105</td>\n",
       "      <td>-0.000891</td>\n",
       "      <td>0.000381</td>\n",
       "      <td>-0.000451</td>\n",
       "      <td>0.0</td>\n",
       "      <td>2.300040</td>\n",
       "      <td>0.001606</td>\n",
       "    </tr>\n",
       "    <tr>\n",
       "      <th>2004-01-06</th>\n",
       "      <td>0.000736</td>\n",
       "      <td>-0.001236</td>\n",
       "      <td>0.002660</td>\n",
       "      <td>-0.002076</td>\n",
       "      <td>-0.000577</td>\n",
       "      <td>-0.000033</td>\n",
       "      <td>0.0</td>\n",
       "      <td>4.290614</td>\n",
       "      <td>0.002937</td>\n",
       "    </tr>\n",
       "    <tr>\n",
       "      <th>2004-01-07</th>\n",
       "      <td>0.000728</td>\n",
       "      <td>0.000393</td>\n",
       "      <td>0.000721</td>\n",
       "      <td>0.000512</td>\n",
       "      <td>-0.001034</td>\n",
       "      <td>0.000422</td>\n",
       "      <td>0.0</td>\n",
       "      <td>-0.035741</td>\n",
       "      <td>0.000158</td>\n",
       "    </tr>\n",
       "    <tr>\n",
       "      <th>2004-01-08</th>\n",
       "      <td>-0.000319</td>\n",
       "      <td>0.000753</td>\n",
       "      <td>0.001189</td>\n",
       "      <td>0.000801</td>\n",
       "      <td>-0.001006</td>\n",
       "      <td>0.000057</td>\n",
       "      <td>0.0</td>\n",
       "      <td>-0.167630</td>\n",
       "      <td>-0.000158</td>\n",
       "    </tr>\n",
       "    <tr>\n",
       "      <th>...</th>\n",
       "      <td>...</td>\n",
       "      <td>...</td>\n",
       "      <td>...</td>\n",
       "      <td>...</td>\n",
       "      <td>...</td>\n",
       "      <td>...</td>\n",
       "      <td>...</td>\n",
       "      <td>...</td>\n",
       "      <td>...</td>\n",
       "    </tr>\n",
       "    <tr>\n",
       "      <th>2006-12-22</th>\n",
       "      <td>-0.000059</td>\n",
       "      <td>-0.000234</td>\n",
       "      <td>-0.000411</td>\n",
       "      <td>0.000950</td>\n",
       "      <td>0.000140</td>\n",
       "      <td>0.000099</td>\n",
       "      <td>0.0</td>\n",
       "      <td>-0.776558</td>\n",
       "      <td>-0.000551</td>\n",
       "    </tr>\n",
       "    <tr>\n",
       "      <th>2006-12-26</th>\n",
       "      <td>-0.000097</td>\n",
       "      <td>0.000028</td>\n",
       "      <td>0.000165</td>\n",
       "      <td>0.000365</td>\n",
       "      <td>0.000571</td>\n",
       "      <td>0.000193</td>\n",
       "      <td>0.0</td>\n",
       "      <td>-0.478018</td>\n",
       "      <td>-0.000275</td>\n",
       "    </tr>\n",
       "    <tr>\n",
       "      <th>2006-12-27</th>\n",
       "      <td>-0.000623</td>\n",
       "      <td>0.000325</td>\n",
       "      <td>-0.000387</td>\n",
       "      <td>-0.000926</td>\n",
       "      <td>0.000653</td>\n",
       "      <td>0.000083</td>\n",
       "      <td>0.0</td>\n",
       "      <td>-0.637943</td>\n",
       "      <td>-0.000324</td>\n",
       "    </tr>\n",
       "    <tr>\n",
       "      <th>2006-12-28</th>\n",
       "      <td>-0.001413</td>\n",
       "      <td>-0.000199</td>\n",
       "      <td>-0.000114</td>\n",
       "      <td>0.000246</td>\n",
       "      <td>0.001355</td>\n",
       "      <td>0.000070</td>\n",
       "      <td>0.0</td>\n",
       "      <td>-1.047136</td>\n",
       "      <td>-0.000837</td>\n",
       "    </tr>\n",
       "    <tr>\n",
       "      <th>2006-12-29</th>\n",
       "      <td>0.002548</td>\n",
       "      <td>-0.000916</td>\n",
       "      <td>0.000380</td>\n",
       "      <td>0.000229</td>\n",
       "      <td>0.000065</td>\n",
       "      <td>-0.000164</td>\n",
       "      <td>0.0</td>\n",
       "      <td>2.178167</td>\n",
       "      <td>0.001644</td>\n",
       "    </tr>\n",
       "  </tbody>\n",
       "</table>\n",
       "<p>755 rows × 9 columns</p>\n",
       "</div>"
      ],
      "text/plain": [
       "            STREVRSL  MGMTQLTY    SENTMT  EARNYILD    SEASON    INDMOM  \\\n",
       "2004-01-02  0.002536  0.000154  0.000819  0.000624  0.000715 -0.000223   \n",
       "2004-01-05  0.001079 -0.000217  0.001105 -0.000891  0.000381 -0.000451   \n",
       "2004-01-06  0.000736 -0.001236  0.002660 -0.002076 -0.000577 -0.000033   \n",
       "2004-01-07  0.000728  0.000393  0.000721  0.000512 -0.001034  0.000422   \n",
       "2004-01-08 -0.000319  0.000753  0.001189  0.000801 -0.001006  0.000057   \n",
       "...              ...       ...       ...       ...       ...       ...   \n",
       "2006-12-22 -0.000059 -0.000234 -0.000411  0.000950  0.000140  0.000099   \n",
       "2006-12-26 -0.000097  0.000028  0.000165  0.000365  0.000571  0.000193   \n",
       "2006-12-27 -0.000623  0.000325 -0.000387 -0.000926  0.000653  0.000083   \n",
       "2006-12-28 -0.001413 -0.000199 -0.000114  0.000246  0.001355  0.000070   \n",
       "2006-12-29  0.002548 -0.000916  0.000380  0.000229  0.000065 -0.000164   \n",
       "\n",
       "            avg_Ret       PCA   PCA_ret  \n",
       "2004-01-02      0.0  1.453539  0.001202  \n",
       "2004-01-05      0.0  2.300040  0.001606  \n",
       "2004-01-06      0.0  4.290614  0.002937  \n",
       "2004-01-07      0.0 -0.035741  0.000158  \n",
       "2004-01-08      0.0 -0.167630 -0.000158  \n",
       "...             ...       ...       ...  \n",
       "2006-12-22      0.0 -0.776558 -0.000551  \n",
       "2006-12-26      0.0 -0.478018 -0.000275  \n",
       "2006-12-27      0.0 -0.637943 -0.000324  \n",
       "2006-12-28      0.0 -1.047136 -0.000837  \n",
       "2006-12-29      0.0  2.178167  0.001644  \n",
       "\n",
       "[755 rows x 9 columns]"
      ]
     },
     "execution_count": 114,
     "metadata": {},
     "output_type": "execute_result"
    }
   ],
   "source": [
    "pca = PCA(n_components = 'mle')\n",
    "principalComponents = pca.fit_transform(x)\n",
    "\n",
    "# facret_df['PCA'] = principalComponents \n",
    "facret_df['PCA_ret'] =  facret_df[alpha_factors].dot(pca.components_.T )\n",
    "# principalDf = pd.DataFrame(data = principalComponents\n",
    "#              , columns = ['principal component 1', 'principal component 2'])\n",
    "facret_df"
   ]
  },
  {
   "cell_type": "code",
   "execution_count": null,
   "metadata": {},
   "outputs": [
    {
     "data": {
      "text/plain": [
       "array([0.20879388])"
      ]
     },
     "execution_count": 80,
     "metadata": {},
     "output_type": "execute_result"
    }
   ],
   "source": [
    "pca.explained_variance_ratio_"
   ]
  },
  {
   "cell_type": "code",
   "execution_count": null,
   "metadata": {},
   "outputs": [],
   "source": []
  },
  {
   "cell_type": "code",
   "execution_count": null,
   "metadata": {},
   "outputs": [],
   "source": []
  },
  {
   "attachments": {},
   "cell_type": "markdown",
   "metadata": {},
   "source": [
    "# 2"
   ]
  },
  {
   "cell_type": "code",
   "execution_count": 35,
   "metadata": {},
   "outputs": [],
   "source": [
    "frames_test = {}\n",
    "for year in [2008,2009,2010]:\n",
    "    fil = model_dir + \"pandas-frames.\" + str(year) + \".pickle.bz2\"\n",
    "    frames_test.update(pickle.load( bz2.open( fil, \"rb\" ) ))\n",
    "\n",
    "for x in frames_test: \n",
    "    frames_test[x] = sort_cols(frames_test[x])\n"
   ]
  },
  {
   "cell_type": "code",
   "execution_count": null,
   "metadata": {},
   "outputs": [],
   "source": [
    "# Calculate h* from the training set\n",
    "\n",
    "for my_date in frames.keys():\n",
    "    # estu = estimation universe\n",
    "    \n",
    "    estu = get_estu(frames[my_date])\n",
    "    n = estu.shape[0]\n",
    "\n",
    "    estu['Ret'] = wins(estu['Ret'], -0.25, 0.25)\n",
    "\n",
    "    rske = risk_exposures(estu)\n",
    "    F = diagonal_factor_cov(my_date, rske)\n",
    "\n",
    "    X = np.asarray(rske)\n",
    "    D = np.asarray( (estu['SpecRisk'] / (100 * math.sqrt(252))) ** 2 )\n",
    "\n",
    "    k_sigma_inv = np.linalg.inv(kappa *(D + X @ F @ X.T)) # 2265 x 2265\n",
    "\n",
    "    h_star = k_sigma_inv * exp_ret # 2265 x 2265 @ 2265 x 1\n",
    "\n",
    "    "
   ]
  },
  {
   "cell_type": "code",
   "execution_count": 38,
   "metadata": {},
   "outputs": [],
   "source": [
    "k_sigma_inv = np.linalg.inv(kappa *(D + X @ F @ X.T))"
   ]
  },
  {
   "cell_type": "code",
   "execution_count": 42,
   "metadata": {},
   "outputs": [
    {
     "data": {
      "text/plain": [
       "(2265, 2265)"
      ]
     },
     "execution_count": 42,
     "metadata": {},
     "output_type": "execute_result"
    }
   ],
   "source": [
    "k_sigma_inv.shape"
   ]
  },
  {
   "cell_type": "code",
   "execution_count": null,
   "metadata": {},
   "outputs": [
    {
     "ename": "LinAlgError",
     "evalue": "1-dimensional array given. Array must be at least two-dimensional",
     "output_type": "error",
     "traceback": [
      "\u001b[0;31m---------------------------------------------------------------------------\u001b[0m",
      "\u001b[0;31mLinAlgError\u001b[0m                               Traceback (most recent call last)",
      "\u001b[0;32m/var/folders/y0/1j670n791xlfb4q6qkggnzy80000gn/T/ipykernel_41230/3860375552.py\u001b[0m in \u001b[0;36m<module>\u001b[0;34m\u001b[0m\n\u001b[0;32m----> 1\u001b[0;31m \u001b[0msigma_inv\u001b[0m \u001b[0;34m=\u001b[0m \u001b[0mnp\u001b[0m\u001b[0;34m.\u001b[0m\u001b[0mlinalg\u001b[0m\u001b[0;34m.\u001b[0m\u001b[0minv\u001b[0m\u001b[0;34m(\u001b[0m\u001b[0mD\u001b[0m\u001b[0;34m)\u001b[0m \u001b[0;34m-\u001b[0m \u001b[0mnp\u001b[0m\u001b[0;34m.\u001b[0m\u001b[0mlinalg\u001b[0m\u001b[0;34m.\u001b[0m\u001b[0minv\u001b[0m\u001b[0;34m(\u001b[0m\u001b[0mD\u001b[0m\u001b[0;34m)\u001b[0m\u001b[0;31m# @ X @ np.linalg.inv(np.linalg.inv(F) + X.T @ np.linalg.inv(D) @ X) @ X.T @ np.linalg.inv(D)\u001b[0m\u001b[0;34m\u001b[0m\u001b[0;34m\u001b[0m\u001b[0m\n\u001b[0m",
      "\u001b[0;32m<__array_function__ internals>\u001b[0m in \u001b[0;36minv\u001b[0;34m(*args, **kwargs)\u001b[0m\n",
      "\u001b[0;32m~/opt/anaconda3/lib/python3.9/site-packages/numpy/linalg/linalg.py\u001b[0m in \u001b[0;36minv\u001b[0;34m(a)\u001b[0m\n\u001b[1;32m    537\u001b[0m     \"\"\"\n\u001b[1;32m    538\u001b[0m     \u001b[0ma\u001b[0m\u001b[0;34m,\u001b[0m \u001b[0mwrap\u001b[0m \u001b[0;34m=\u001b[0m \u001b[0m_makearray\u001b[0m\u001b[0;34m(\u001b[0m\u001b[0ma\u001b[0m\u001b[0;34m)\u001b[0m\u001b[0;34m\u001b[0m\u001b[0;34m\u001b[0m\u001b[0m\n\u001b[0;32m--> 539\u001b[0;31m     \u001b[0m_assert_stacked_2d\u001b[0m\u001b[0;34m(\u001b[0m\u001b[0ma\u001b[0m\u001b[0;34m)\u001b[0m\u001b[0;34m\u001b[0m\u001b[0;34m\u001b[0m\u001b[0m\n\u001b[0m\u001b[1;32m    540\u001b[0m     \u001b[0m_assert_stacked_square\u001b[0m\u001b[0;34m(\u001b[0m\u001b[0ma\u001b[0m\u001b[0;34m)\u001b[0m\u001b[0;34m\u001b[0m\u001b[0;34m\u001b[0m\u001b[0m\n\u001b[1;32m    541\u001b[0m     \u001b[0mt\u001b[0m\u001b[0;34m,\u001b[0m \u001b[0mresult_t\u001b[0m \u001b[0;34m=\u001b[0m \u001b[0m_commonType\u001b[0m\u001b[0;34m(\u001b[0m\u001b[0ma\u001b[0m\u001b[0;34m)\u001b[0m\u001b[0;34m\u001b[0m\u001b[0;34m\u001b[0m\u001b[0m\n",
      "\u001b[0;32m~/opt/anaconda3/lib/python3.9/site-packages/numpy/linalg/linalg.py\u001b[0m in \u001b[0;36m_assert_stacked_2d\u001b[0;34m(*arrays)\u001b[0m\n\u001b[1;32m    194\u001b[0m     \u001b[0;32mfor\u001b[0m \u001b[0ma\u001b[0m \u001b[0;32min\u001b[0m \u001b[0marrays\u001b[0m\u001b[0;34m:\u001b[0m\u001b[0;34m\u001b[0m\u001b[0;34m\u001b[0m\u001b[0m\n\u001b[1;32m    195\u001b[0m         \u001b[0;32mif\u001b[0m \u001b[0ma\u001b[0m\u001b[0;34m.\u001b[0m\u001b[0mndim\u001b[0m \u001b[0;34m<\u001b[0m \u001b[0;36m2\u001b[0m\u001b[0;34m:\u001b[0m\u001b[0;34m\u001b[0m\u001b[0;34m\u001b[0m\u001b[0m\n\u001b[0;32m--> 196\u001b[0;31m             raise LinAlgError('%d-dimensional array given. Array must be '\n\u001b[0m\u001b[1;32m    197\u001b[0m                     'at least two-dimensional' % a.ndim)\n\u001b[1;32m    198\u001b[0m \u001b[0;34m\u001b[0m\u001b[0m\n",
      "\u001b[0;31mLinAlgError\u001b[0m: 1-dimensional array given. Array must be at least two-dimensional"
     ]
    }
   ],
   "source": [
    "sigma_inv = np.linalg.inv(D) - np.linalg.inv(D) @ X @ np.linalg.inv(np.linalg.inv(F) + X.T @ np.linalg.inv(D) @ X) @ X.T @ np.linalg.inv(D)"
   ]
  }
 ],
 "metadata": {
  "kernelspec": {
   "display_name": "Python 3 (ipykernel)",
   "language": "python",
   "name": "python3"
  },
  "language_info": {
   "codemirror_mode": {
    "name": "ipython",
    "version": 3
   },
   "file_extension": ".py",
   "mimetype": "text/x-python",
   "name": "python",
   "nbconvert_exporter": "python",
   "pygments_lexer": "ipython3",
   "version": "3.9.13"
  }
 },
 "nbformat": 4,
 "nbformat_minor": 2
}
