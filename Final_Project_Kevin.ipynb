{
 "cells": [
  {
   "cell_type": "markdown",
   "metadata": {},
   "source": [
    "# FINM 33210 Final Project"
   ]
  },
  {
   "cell_type": "markdown",
   "metadata": {},
   "source": [
    "This project will guide you through a typical buy-side quant research project, in which you will use some of the statistical learning methods discussed earlier in the course to analyze a multi-factor model of the type discussed in module 4. "
   ]
  },
  {
   "cell_type": "markdown",
   "metadata": {},
   "source": [
    "## Import Packages"
   ]
  },
  {
   "cell_type": "code",
   "execution_count": 1,
   "metadata": {},
   "outputs": [],
   "source": [
    "import pandas\n",
    "import pandas as pd\n",
    "import numpy as np\n",
    "import matplotlib.pyplot as plt\n",
    "import pickle\n",
    "from statsmodels.formula.api import ols\n",
    "from scipy.stats import gaussian_kde\n",
    "import scipy\n",
    "import scipy.sparse\n",
    "import patsy\n",
    "from statistics import median\n",
    "import bz2\n",
    "import math"
   ]
  },
  {
   "cell_type": "markdown",
   "metadata": {},
   "source": [
    "## Load Data\n",
    "\n",
    "In general, parsing text into numbers, dates, and other python data types can be done once, at the beginning of a research project, and the results can be saved to binary files. If the files are more than a few megabytes, use compression to avoid filling up your disk. In the following example, the model data has already been pre-processed and saved into pickle files, and the bz2 compression algorithm was used."
   ]
  },
  {
   "cell_type": "code",
   "execution_count": 2,
   "metadata": {},
   "outputs": [],
   "source": [
    "model_dir = '/Users/sokhanjang/Downloads/FinalProjectData/'\n",
    "\n",
    "def sort_cols(test): \n",
    "    return test.reindex(sorted(test.columns), axis=1)\n",
    "\n",
    "frames = {}\n",
    "for year in [2004, 2005, 2006]:\n",
    "    fil = model_dir + \"pandas-frames.\" + str(year) + \".pickle.bz2\"\n",
    "    frames.update(pickle.load(bz2.open(fil, \"rb\")))\n",
    "\n",
    "for x in frames: \n",
    "    frames[x] = sort_cols(frames[x])\n",
    "    \n",
    "covariance = {}\n",
    "for year in [2003, 2004, 2005, 2006]:\n",
    "    fil = model_dir + \"covariance.\" + str(year) + \".pickle.bz2\"\n",
    "    covariance.update(pickle.load(bz2.open(fil, \"rb\")))\n",
    "\n",
    "# the following dates array is used later for constructing time series plots\n",
    "my_dates = sorted(list(map(lambda date: pd.to_datetime(date, format='%Y%m%d'), frames.keys())))"
   ]
  },
  {
   "cell_type": "markdown",
   "metadata": {},
   "source": [
    "## Data Definitions\n",
    "\n",
    "After the above loading operation is finished, \"frames\" will be a dictionary keyed by date. For example, the string \"20040102\" is one such key. Accessing the value at this key, with frames[\"20040102\"], gives a data frame containing a daily cross section. Each row in the data frame corresponds to a particular stock, and there are many columns containing various attributes of the stock that have been collected. The meanings of the columns that we will use in this project are defined below; columns which may exist in the data, but not listed here, are not needed.\n",
    "\n",
    "\n",
    "- ID: a unique identifier that can be used to link stocks across time \n",
    "- DataDate: the date when the data would have been known, as of the close \n",
    "\n",
    "\n",
    "## Factors\n",
    "\n",
    "- 1DREVRSL: very short-term reversal, potential alpha factor but probably too fast-moving to be tradable \n",
    "- STREVRSL: short-term reversal, potential alpha factor \n",
    "- LTREVRSL: long-term reversal, potential risk factor \n",
    "- BETA: risk factor computed from CAPM beta regression\n",
    "- EARNQLTY: earnings quality, potential alpha factor \n",
    "- EARNYILD: earnings yield (blend of forecasted earnings and historical earnings divided by market cap) \n",
    "- GROWTH: mix of historical and forecasted earnings growth \n",
    "- INDMOM: industry momentum (relative historical performance of the other stocks in the same industry) \n",
    "- LEVERAGE: financial leverage of the company's balance sheet, usually a risk factor \n",
    "- LIQUIDTY: factor with high loadings for very liquidly traded names; usually a risk factor \n",
    "- MGMTQLTY: alpha factor which looks at quantitative measures of how well-run a company is by its management \n",
    "- MOMENTUM: 12-month growth in stock price, usually a risk factor \n",
    "- PROFIT: profitability, potential alpha factor \n",
    "- PROSPECT: based on skewness of the return distribution, potential risk factor \n",
    "- RESVOL: risk factor computed from residual volatility \n",
    "- SEASON: seasonality-based alpha factor \n",
    "- SENTMT: news sentiment alpha factor \n",
    "- SIZE: risk factor based on log(market capitalization) \n",
    "- VALUE: risk factor based on ratio of tangible book value to current price \n",
    "\n",
    "\n",
    "## Non-factor Attributes\n",
    "\n",
    "- Ret: asset's total return on the next day after the factor loadings are known, suitable as the Y vector in a regression analysis \n",
    "- SpecRisk: specific risk is another name for predicted residual volatility. We called this the D matrix in our discussion of APT models. \n",
    "- TotalRisk: predicted total vol, including factor and idiosyncratic contributions, annualized \n",
    "- Yield: the dividend yield of the asset \n",
    "- HistBeta: historically estimated CAPM beta coefficient \n",
    "- PredBeta: model-predicted beta coefficient in the future \n",
    "- IssuerMarketCap: aggregate market capitalization of the company (all share classes from the same issuer)\n",
    "- BidAskSpread: bid-offer spread (average for the day) \n",
    "- CompositeVolume: composite trading volume for the day \n",
    "\n",
    "\n",
    "\n",
    "## Industry factors\n",
    "\n",
    "\n",
    "'AERODEF', 'AIRLINES', 'ALUMSTEL', 'APPAREL', 'AUTO',\n",
    "       'BANKS','BEVTOB', 'BIOLIFE', 'BLDGPROD','CHEM', 'CNSTENG', 'CNSTMACH', 'CNSTMATL', 'COMMEQP', 'COMPELEC',\n",
    "       'COMSVCS', 'CONGLOM', 'CONTAINR', 'DISTRIB',\n",
    "       'DIVFIN', 'ELECEQP', 'ELECUTIL', 'FOODPROD', 'FOODRET', 'GASUTIL',\n",
    "       'HLTHEQP', 'HLTHSVCS', 'HOMEBLDG', 'HOUSEDUR','INDMACH', 'INSURNCE', 'INTERNET', \n",
    "        'LEISPROD', 'LEISSVCS', 'LIFEINS', 'MEDIA', 'MGDHLTH','MULTUTIL',\n",
    "       'OILGSCON', 'OILGSDRL', 'OILGSEQP', 'OILGSEXP', 'PAPER', 'PHARMA',\n",
    "       'PRECMTLS','PSNLPROD','REALEST',\n",
    "       'RESTAUR', 'ROADRAIL','SEMICOND', 'SEMIEQP','SOFTWARE', 'SPLTYRET', 'SPTYCHEM', 'SPTYSTOR',\n",
    "       'TELECOM', 'TRADECO', 'TRANSPRT', 'WIRELESS'"
   ]
  },
  {
   "cell_type": "markdown",
   "metadata": {},
   "source": [
    "## Data Cleaning and Winsorization\n",
    "\n",
    "The distribution of many statistics can be heavily influenced by outliers. A simple approach to robustifying parameter estimation procedures is to set all outliers to a specified percentile of the data; for example, a 90% winsorization would see all data below the 5th percentile set to the 5th percentile, and data above the 95th percentile set to the 95th percentile. Winsorized estimators are usually more robust to outliers than their more standard forms."
   ]
  },
  {
   "cell_type": "code",
   "execution_count": 3,
   "metadata": {},
   "outputs": [],
   "source": [
    "def wins(x,a,b):\n",
    "    return(np.where(x <= a,a, np.where(x >= b, b, x)))\n",
    "\n",
    "def clean_nas(df): \n",
    "    numeric_columns = df.select_dtypes(include=[np.number]).columns.tolist()\n",
    "    \n",
    "    for numeric_column in numeric_columns: \n",
    "        df[numeric_column] = np.nan_to_num(df[numeric_column])\n",
    "    \n",
    "    return df"
   ]
  },
  {
   "cell_type": "markdown",
   "metadata": {},
   "source": [
    "We can check the distribution of returns with a density plot, both before and after winsorization to observe the effect of trimming the tails."
   ]
  },
  {
   "cell_type": "code",
   "execution_count": 4,
   "metadata": {},
   "outputs": [
    {
     "data": {
      "image/png": "[encoded data removed]",
      "text/plain": [
       "<Figure size 432x288 with 1 Axes>"
      ]
     },
     "metadata": {
      "needs_background": "light"
     },
     "output_type": "display_data"
    },
    {
     "data": {
      "image/png": "[encoded data removed]",
      "text/plain": [
       "<Figure size 432x288 with 1 Axes>"
      ]
     },
     "metadata": {
      "needs_background": "light"
     },
     "output_type": "display_data"
    },
    {
     "data": {
      "image/png": "[encoded data removed]",
      "text/plain": [
       "<Figure size 432x288 with 1 Axes>"
      ]
     },
     "metadata": {
      "needs_background": "light"
     },
     "output_type": "display_data"
    }
   ],
   "source": [
    "def density_plot(data, title): \n",
    "    density = gaussian_kde(data)\n",
    "    xs = np.linspace(np.min(data),np.max(data),200)\n",
    "    density.covariance_factor = lambda : .25\n",
    "    density._compute_covariance()\n",
    "    plt.plot(xs,density(xs))\n",
    "    plt.title(title)\n",
    "    plt.show()\n",
    "    \n",
    "test = frames['20040102']\n",
    "density_plot(test['Ret'], 'Daily return pre-winsorization')\n",
    "density_plot(wins(test['Ret'],-0.2,0.2), 'Daily return winsorized')\n",
    "\n",
    "D = (test['SpecRisk'] / (100 * math.sqrt(252))) ** 2\n",
    "density_plot(np.sqrt(D), 'SpecRisk')"
   ]
  },
  {
   "cell_type": "markdown",
   "metadata": {},
   "source": [
    "# Factors"
   ]
  },
  {
   "cell_type": "markdown",
   "metadata": {},
   "source": [
    "## Factor Exposures and Factor Returns\n",
    "\n",
    "\n",
    "Arbitrage pricing theory relaxes several of the assumptions made in the course of deriving \n",
    "the CAPM. In particular, we relax the assumption that all investors do the same optimization \n",
    "and hence that there is a single efficient fund. This allows the possibility that a CAPM-like \n",
    "relation may hold, but with multiple underlying sources of risk. \n",
    "\n",
    "Specifically, let $r_i, i = 1, \\ldots, n$ denote the cross-section of asset returns over a given \n",
    "time period $[t, t+1]$. In a fully-general model, the multivariate distribution $p(\\mathbf{r})$ could have \n",
    "arbitrary covariance and higher-moment structures, but remember that for $n$ large there is \n",
    "typically never enough data to estimate such over-parameterized models. \n",
    "\n",
    "Instead, we assume a\n",
    "structural model which is the most direct generalization of the CAPM: \n",
    "$$\n",
    "\tr_i = \\beta_{i, 1} f_1 + \\beta_{i,2} f_2 + \\dots + \\beta_{i, p} f_p + \\epsilon_i, \\quad \n",
    "\t\\epsilon_i \\sim N(0, \\sigma_i^2)  \n",
    "$$\n",
    "If $p = 1$, this reduces to the Capital Asset Pricing Model (CAPM) in a rather direct way. \n",
    "\n",
    "With $p > 1$, the model starts to differ from the CAPM \n",
    "in several very important aspects. In the CAPM, we were \n",
    "able to identify the single efficient fund by arguing that its weights must equal the \n",
    "market-capitalization weights. Hence we were given for free a very nice proxy for the \n",
    "single efficient fund: a capitalization-weighted basket such as the Russell 3000. \n",
    "Hence in the $p=1$ case we had a convenient proxy which could be used to impute \n",
    "the return $f_1$, which we called $r_M$. Also $\\beta_{i, 1}$ could be estimated, with \n",
    "no more than the usual statistical estimation error, by time-series regression. \n",
    "\n",
    "If $p > 1$ then the underlying assumptions of that argument break down: there is no\n",
    "longer any simple way to identify $f_{j}$ nor $\\beta_{i, j}$ ($j = 1, \\ldots, p$). \n",
    "We shall return to the estimation problem in due course. \n",
    "\n",
    "\n",
    "To avoid confusion with the CAPM, and its simplistic $\\beta$ coefficient (which is still \n",
    "sometimes used in larger multi-factor models), it is conventional to make the following \n",
    "notation change: $\\beta_{i,j}$ becomes $X_{i,j}$ and so the model equation becomes \n",
    "$$\n",
    "\t \tr_i = X_{i, 1} f_1 + X_{i,2} f_2 + \\dots + X_{i, p} f_p + \\epsilon_i, \\quad \n",
    "\t\\epsilon_i \\sim N(0, \\sigma_i^2)  \n",
    "$$\n",
    "It's difficult to simultaneously estimate both all components $X_{i,j}$ and all risk-source \n",
    "returns $f_j$, so one usually assumes one is known and calculates the other via regression. \n",
    "In what follows, we focus on the approach where $X$ is known, and the $f_j$ are assumed\n",
    "to be hidden (aka latent) variables.\n",
    "\n",
    "The structural equation is more conveniently expressed in matrix form: \n",
    "$$\n",
    "\tR_{t+1} = X_t f_{t+1} + \\epsilon_{t+1}, \\quad E[\\epsilon] = 0, \\ \\ V[\\epsilon] = D \n",
    "$$\n",
    "where $R_{t+1}$ is an $n$-dimensional random vector containing the \n",
    "cross-section of returns in excess of the risk-free rate over some \n",
    "time interval $[t, t+1]$, and $X_t$ is a (non-random) $n \\times p$ matrix \n",
    "that can be calculated entirely from data known before time $t$.\n",
    "The variable $f$ in denotes a $p$-dimensional random vector\n",
    "process which cannot be observed directly. \n",
    "\n",
    "Since the variable $f$ denotes a $p$-dimensional random vector process which cannot \n",
    "be observed directly, information about the $f$-process must be obtained via statistical inference. \n",
    "We assume that the $f$-process has finite first and second moments given by \n",
    "$$\n",
    "\tE[f] = \\mu_f, \\ \\text{ and } \\  V[f] = F . \n",
    "$$ \n",
    "The primary outputs of a statistical inference process are the parameters \n",
    "$\\mu_f$ and $F$, and other outputs one might be interested in\n",
    "include estimates of the daily realizations $\\hat{f}_{t+1}$. \n",
    "\n",
    "The simplest way of estimating historical daily realizations of $\\hat{f}_{t+1}$ is by least-squares (ordinary or weighted, as appropriate), viewing the defining \n",
    "model equation as a regression problem. "
   ]
  },
  {
   "cell_type": "code",
   "execution_count": 5,
   "metadata": {},
   "outputs": [],
   "source": [
    "industry_factors = ['AERODEF', 'AIRLINES', 'ALUMSTEL', 'APPAREL', 'AUTO',\n",
    "       'BANKS','BEVTOB', 'BIOLIFE', 'BLDGPROD','CHEM', 'CNSTENG', 'CNSTMACH', 'CNSTMATL', 'COMMEQP', 'COMPELEC',\n",
    "       'COMSVCS', 'CONGLOM', 'CONTAINR', 'DISTRIB',\n",
    "       'DIVFIN', 'ELECEQP', 'ELECUTIL', 'FOODPROD', 'FOODRET', 'GASUTIL',\n",
    "       'HLTHEQP', 'HLTHSVCS', 'HOMEBLDG', 'HOUSEDUR','INDMACH', 'INSURNCE', 'INTERNET', \n",
    "        'LEISPROD', 'LEISSVCS', 'LIFEINS', 'MEDIA', 'MGDHLTH','MULTUTIL',\n",
    "       'OILGSCON', 'OILGSDRL', 'OILGSEQP', 'OILGSEXP', 'PAPER', 'PHARMA',\n",
    "       'PRECMTLS','PSNLPROD','REALEST',\n",
    "       'RESTAUR', 'ROADRAIL','SEMICOND', 'SEMIEQP','SOFTWARE', 'SPLTYRET', 'SPTYCHEM', 'SPTYSTOR',\n",
    "       'TELECOM', 'TRADECO', 'TRANSPRT', 'WIRELESS']\n",
    "\n",
    "style_factors = ['BETA', 'SIZE', 'MOMENTUM', 'VALUE', 'GROWTH', 'LEVERAGE', 'LIQUIDTY', \n",
    "                 'DIVYILD', 'LTREVRSL', 'EARNQLTY']\n",
    "\n",
    "## an R-style formula which can be used to construct a cross sectional regression\n",
    "def get_formula(alphas, Y):\n",
    "    L = [\"0\"]\n",
    "    L.extend(alphas)\n",
    "    L.extend(style_factors)\n",
    "    L.extend(industry_factors)\n",
    "    return Y + \" ~ \" + \" + \".join(L)\n",
    "\n",
    "## The term 'estu' is short for estimation universe\n",
    "def get_estu(df): \n",
    "    estu = df.loc[df.IssuerMarketCap > 1e9].copy(deep=True)\n",
    "    return estu\n",
    "\n",
    "def estimate_factor_returns(df, alphas): \n",
    "    ## build universe based on filters \n",
    "    estu = get_estu(df)\n",
    "    \n",
    "    ## winsorize returns for fitting \n",
    "    estu['Ret'] = wins(estu['Ret'], -0.25, 0.25)\n",
    "    \n",
    "    model = ols(get_formula(alphas, \"Ret\"), data=estu)\n",
    "    return(model.fit())"
   ]
  },
  {
   "cell_type": "markdown",
   "metadata": {},
   "source": [
    "## Alpha factor selection\n",
    "\n",
    "In a real trading scenario, alpha factor construction would be the culmination of a very long research process, usually undertaken by experts in financial markets and requiring time and ingenuity. \n",
    "For this exercise, we consider several well-known alpha factors from the list above. \n",
    "\n",
    "Running one OLS per day over several years, where each OLS involves several thousand observations and about 50-100 independent variables, takes a few minutes."
   ]
  },
  {
   "cell_type": "code",
   "execution_count": 6,
   "metadata": {},
   "outputs": [],
   "source": [
    "alpha_factors = ['STREVRSL', 'MGMTQLTY', 'SENTMT', 'EARNYILD', 'SEASON', 'INDMOM']"
   ]
  },
  {
   "cell_type": "code",
   "execution_count": 7,
   "metadata": {},
   "outputs": [],
   "source": [
    "facret = {}\n",
    "\n",
    "for date in frames:\n",
    "    facret[date] = estimate_factor_returns(frames[date], list(alpha_factors)).params"
   ]
  },
  {
   "cell_type": "markdown",
   "metadata": {},
   "source": [
    "We now have a multivariate time series of factor returns stored in the variable facret. We can plot the cumulative sum of the factor returns. "
   ]
  },
  {
   "cell_type": "code",
   "execution_count": 8,
   "metadata": {},
   "outputs": [
    {
     "data": {
      "text/plain": [
       "<AxesSubplot:>"
      ]
     },
     "execution_count": 8,
     "metadata": {},
     "output_type": "execute_result"
    },
    {
     "data": {
      "image/png": "[encoded data removed]",
      "text/plain": [
       "<Figure size 432x288 with 1 Axes>"
      ]
     },
     "metadata": {
      "needs_background": "light"
     },
     "output_type": "display_data"
    }
   ],
   "source": [
    "facret_df = pd.DataFrame(index = my_dates)\n",
    "\n",
    "for dt in my_dates: \n",
    "    for alp in alpha_factors: \n",
    "        facret_df.at[dt, alp] = facret[dt.strftime('%Y%m%d')][alp]\n",
    "\n",
    "facret_df.cumsum().plot()"
   ]
  },
  {
   "cell_type": "markdown",
   "metadata": {},
   "source": [
    "The following table gives the vector called $\\mu_f$ in lecture."
   ]
  },
  {
   "cell_type": "code",
   "execution_count": 9,
   "metadata": {},
   "outputs": [
    {
     "name": "stdout",
     "output_type": "stream",
     "text": [
      "STREVRSL    0.000271\n",
      "MGMTQLTY    0.000028\n",
      "SENTMT      0.000095\n",
      "EARNYILD    0.000122\n",
      "SEASON      0.000080\n",
      "INDMOM      0.000050\n",
      "dtype: float64\n"
     ]
    }
   ],
   "source": [
    "print(facret_df.mean())"
   ]
  },
  {
   "cell_type": "markdown",
   "metadata": {},
   "source": [
    "## Helpful code to show how to get X, F, D matrices for a particular date"
   ]
  },
  {
   "cell_type": "code",
   "execution_count": 10,
   "metadata": {},
   "outputs": [],
   "source": [
    "def colnames(X):\n",
    "    if(type(X) == patsy.design_info.DesignMatrix): \n",
    "        return(X.design_info.column_names)\n",
    "    if(type(X) == pandas.core.frame.DataFrame): \n",
    "        return(X.columns.tolist())\n",
    "    return(None)\n",
    "\n",
    "def diagonal_factor_cov(date, X):\n",
    "    cv = covariance[date]\n",
    "    k = np.shape(X)[1]\n",
    "    Fm = np.zeros([k,k])\n",
    "    for j in range(0,k): \n",
    "        fac = colnames(X)[j]\n",
    "        Fm[j,j] = (0.01**2) * cv.loc[(cv.Factor1==fac) & (cv.Factor2==fac),\"VarCovar\"].iloc[0]\n",
    "    return(Fm)\n",
    "\n",
    "def risk_exposures(estu): \n",
    "    L = [\"0\"]\n",
    "    L.extend(style_factors)\n",
    "    L.extend(industry_factors)\n",
    "    my_formula = \" + \".join(L)\n",
    "    return patsy.dmatrix(my_formula, data = estu)"
   ]
  },
  {
   "cell_type": "code",
   "execution_count": 11,
   "metadata": {},
   "outputs": [
    {
     "name": "stdout",
     "output_type": "stream",
     "text": [
      "[[0.00348478 0.         0.         ... 0.         0.         0.        ]\n",
      " [0.         0.00061952 0.         ... 0.         0.         0.        ]\n",
      " [0.         0.         0.00042807 ... 0.         0.         0.        ]\n",
      " ...\n",
      " [0.         0.         0.         ... 0.00521378 0.         0.        ]\n",
      " [0.         0.         0.         ... 0.         0.00726435 0.        ]\n",
      " [0.         0.         0.         ... 0.         0.         0.02185539]]\n"
     ]
    }
   ],
   "source": [
    "my_date = '20040102'\n",
    "\n",
    "# estu = estimation universe\n",
    "estu = get_estu(frames[my_date])\n",
    "n = estu.shape[0]\n",
    "\n",
    "estu['Ret'] = wins(estu['Ret'], -0.25, 0.25)\n",
    "\n",
    "rske = risk_exposures(estu)\n",
    "F = diagonal_factor_cov(my_date, rske)\n",
    "\n",
    "X = np.asarray(rske)\n",
    "D = np.asarray( (estu['SpecRisk'] / (100 * math.sqrt(252))) ** 2 )\n",
    "\n",
    "kappa = 1e-5\n",
    "\n",
    "print(F)"
   ]
  },
  {
   "cell_type": "markdown",
   "metadata": {},
   "source": [
    "### Problem 1. \n",
    "\n",
    "Consider the list of potential alpha factors whose factor returns were plotted above. Consider ways of combining all of the alpha factors into a single, composite alpha factor. The goal is to produce a composite alpha factor which does the best job of predicting the dependent variable \"Ret\" on out-of-sample data. Restrict your training set on each day to the estimation universe that was used above in get_estu. Take the period 2008-2010 as the ultimate test set which you will hold in a \"vault\" until you are ready to do a final evaluation of your composite alpha factor. Use the period 2003-2007 for training/validation. Use cross-validation to select a model from the full family of models you are considering. It could be as simple as lasso, but we encourage you to be creative and try non-linear combinations of factors as well. Use methods from the course. \n",
    "\n",
    "\n",
    "### Problem 2. \n",
    "\n",
    "Referring to formula (4.3) for the Markowitz portfolio, and the covariance matrix in (4.29), code up a function to compute the Markowitz portfolio for each date in our sample. Refer to the helpful code above to get the different pieces in (4.29). For the risk-aversion constant, use $\\kappa$ = 1e-5. Restrict yourself to the estimation universe that was used above in get_estu. Use your composite alpha factor from Problem 1 as the substitute for $ \\mathbb{E}[\\mathbf{r}]$. It is recommended to use the fast inversion formula (4.32) to speed things up. Compute the dot product of your portfolio with the return, that is compute $\\mathbf{h} \\cdot \\mathbf{r}$ for each date in the sample, and plot the cumulative sum of the results. For $\\mathbf{r}$, use the column called \"Ret\" in the same data frame that was used to compute the portfolio itself. \n",
    "\n",
    "### Extra credit\n",
    "\n",
    "Plot other interesting metrics which help understand the portfolios in problem 2. For example, plot their long/short/net in dollars, number of holdings, factor model's predicted volatility of the portfolio, percent of variance from idio, style, industry. \n",
    "\n",
    "### Teamwork\n",
    "\n",
    "Note that problem 2 only needs the output from Problem 1, but it does not depend on the details of how Problem 1 is being solved. So a team could split up along those lines. Part of the team can start on Problem 2, just assuming the output from problem 1 is, say, a single one of the alpha factors, until the part of the team doing problem 1 has something more interesting. "
   ]
  },
  {
   "cell_type": "markdown",
   "metadata": {},
   "source": [
    "## Problem 1"
   ]
  },
  {
   "cell_type": "markdown",
   "metadata": {},
   "source": [
    "## Problem 2"
   ]
  },
  {
   "cell_type": "markdown",
   "metadata": {},
   "source": [
    "## If I get to choose the composing factor from problem 1, expecting that codes will run well."
   ]
  },
  {
   "cell_type": "code",
   "execution_count": 83,
   "metadata": {},
   "outputs": [],
   "source": [
    "def compute_markowitz_portfolio(frames, facret_df, covariance):\n",
    "    kappa = 1e-5\n",
    "    portfolio_returns = []\n",
    "    \n",
    "    for my_date in frames:\n",
    "        # Estimating universe\n",
    "        estu = get_estu(frames[my_date])\n",
    "        n = estu.shape[0]\n",
    "\n",
    "        estu['Ret'] = wins(estu['Ret'], -0.25, 0.25)\n",
    "\n",
    "        # Calculating risk exposures, factor covariance\n",
    "        rske = risk_exposures(estu)\n",
    "        X = np.asarray(rske)\n",
    "        D = np.asarray((estu['SpecRisk'] / (100 * np.sqrt(252))) ** 2)\n",
    "        F = diagonal_factor_cov(my_date, rske)\n",
    "\n",
    "        # Calculating inverse of covariance matrix using formula (4.32)\n",
    "        inv_D = np.linalg.inv(np.diag(D))\n",
    "        inv_F = np.linalg.inv(F)\n",
    "        inv_X_t_D_X = np.linalg.inv(inv_F + X.T @ inv_D @ X)\n",
    "        inv_covariance = inv_D - inv_D @ X @ inv_X_t_D_X @ X.T @ inv_D\n",
    "\n",
    "        # calculating expected returns using composite alpha factors\n",
    "        composite_alpha = facret_df.loc[pd.to_datetime(my_date), alpha_factors].values\n",
    "        expected_returns = X @ composite_alpha[:, np.newaxis]  # Reshape composite_alpha to column vector\n",
    "\n",
    "        # Calculating portfolio weights using formula (4.3)\n",
    "        portfolio_weights = kappa * inv_covariance @ expected_returns\n",
    "\n",
    "        # Calculating portfolio returns\n",
    "        portfolio_return = np.dot(portfolio_weights.flatten(), estu['Ret'])\n",
    "        portfolio_returns.append(portfolio_return)\n",
    "        \n",
    "    return portfolio_returns"
   ]
  },
  {
   "cell_type": "code",
   "execution_count": 77,
   "metadata": {},
   "outputs": [
    {
     "ename": "ValueError",
     "evalue": "matmul: Input operand 1 has a mismatch in its core dimension 0, with gufunc signature (n?,k),(k,m?)->(n?,m?) (size 6 is different from 69)",
     "output_type": "error",
     "traceback": [
      "\u001b[0;31m---------------------------------------------------------------------------\u001b[0m",
      "\u001b[0;31mValueError\u001b[0m                                Traceback (most recent call last)",
      "Input \u001b[0;32mIn [77]\u001b[0m, in \u001b[0;36m<cell line: 1>\u001b[0;34m()\u001b[0m\n\u001b[0;32m----> 1\u001b[0m portfolio_returns \u001b[38;5;241m=\u001b[39m \u001b[43mcompute_markowitz_portfolio\u001b[49m\u001b[43m(\u001b[49m\u001b[43mframes\u001b[49m\u001b[43m,\u001b[49m\u001b[43m \u001b[49m\u001b[43mfacret_df\u001b[49m\u001b[43m,\u001b[49m\u001b[43m \u001b[49m\u001b[43mcovariance\u001b[49m\u001b[43m)\u001b[49m\n",
      "Input \u001b[0;32mIn [76]\u001b[0m, in \u001b[0;36mcompute_markowitz_portfolio\u001b[0;34m(frames, facret_df, covariance)\u001b[0m\n\u001b[1;32m     24\u001b[0m \u001b[38;5;66;03m# Compute expected returns using composite alpha factors\u001b[39;00m\n\u001b[1;32m     25\u001b[0m composite_alpha \u001b[38;5;241m=\u001b[39m facret_df\u001b[38;5;241m.\u001b[39mloc[pd\u001b[38;5;241m.\u001b[39mto_datetime(my_date), alpha_factors]\u001b[38;5;241m.\u001b[39mvalues\n\u001b[0;32m---> 26\u001b[0m expected_returns \u001b[38;5;241m=\u001b[39m \u001b[43mX\u001b[49m\u001b[43m \u001b[49m\u001b[38;5;241;43m@\u001b[39;49m\u001b[43m \u001b[49m\u001b[43mcomposite_alpha\u001b[49m\u001b[43m[\u001b[49m\u001b[43m:\u001b[49m\u001b[43m,\u001b[49m\u001b[43m \u001b[49m\u001b[43mnp\u001b[49m\u001b[38;5;241;43m.\u001b[39;49m\u001b[43mnewaxis\u001b[49m\u001b[43m]\u001b[49m  \u001b[38;5;66;03m# Reshape composite_alpha to column vector\u001b[39;00m\n\u001b[1;32m     28\u001b[0m \u001b[38;5;66;03m# Compute portfolio weights using formula (4.3)\u001b[39;00m\n\u001b[1;32m     29\u001b[0m portfolio_weights \u001b[38;5;241m=\u001b[39m kappa \u001b[38;5;241m*\u001b[39m inv_covariance \u001b[38;5;241m@\u001b[39m expected_returns\n",
      "\u001b[0;31mValueError\u001b[0m: matmul: Input operand 1 has a mismatch in its core dimension 0, with gufunc signature (n?,k),(k,m?)->(n?,m?) (size 6 is different from 69)"
     ]
    }
   ],
   "source": [
    "portfolio_returns = compute_markowitz_portfolio(frames, facret_df, covariance)"
   ]
  },
  {
   "cell_type": "code",
   "execution_count": 84,
   "metadata": {},
   "outputs": [
    {
     "ename": "ValueError",
     "evalue": "x and y must have same first dimension, but have shapes (755,) and (0,)",
     "output_type": "error",
     "traceback": [
      "\u001b[0;31m---------------------------------------------------------------------------\u001b[0m",
      "\u001b[0;31mValueError\u001b[0m                                Traceback (most recent call last)",
      "Input \u001b[0;32mIn [84]\u001b[0m, in \u001b[0;36m<cell line: 3>\u001b[0;34m()\u001b[0m\n\u001b[1;32m      1\u001b[0m \u001b[38;5;66;03m# Plotting cumulative sum of portfolio returns\u001b[39;00m\n\u001b[1;32m      2\u001b[0m cumulative_portfolio_returns \u001b[38;5;241m=\u001b[39m np\u001b[38;5;241m.\u001b[39mcumsum(portfolio_returns)\n\u001b[0;32m----> 3\u001b[0m \u001b[43mplt\u001b[49m\u001b[38;5;241;43m.\u001b[39;49m\u001b[43mplot\u001b[49m\u001b[43m(\u001b[49m\u001b[43mmy_dates\u001b[49m\u001b[43m,\u001b[49m\u001b[43m \u001b[49m\u001b[43mcumulative_portfolio_returns\u001b[49m\u001b[43m)\u001b[49m\n\u001b[1;32m      4\u001b[0m plt\u001b[38;5;241m.\u001b[39mxlabel(\u001b[38;5;124m'\u001b[39m\u001b[38;5;124mDate\u001b[39m\u001b[38;5;124m'\u001b[39m)\n\u001b[1;32m      5\u001b[0m plt\u001b[38;5;241m.\u001b[39mylabel(\u001b[38;5;124m'\u001b[39m\u001b[38;5;124mCumulative Portfolio Returns\u001b[39m\u001b[38;5;124m'\u001b[39m)\n",
      "File \u001b[0;32m~/opt/anaconda3/lib/python3.9/site-packages/matplotlib/pyplot.py:2757\u001b[0m, in \u001b[0;36mplot\u001b[0;34m(scalex, scaley, data, *args, **kwargs)\u001b[0m\n\u001b[1;32m   2755\u001b[0m \u001b[38;5;129m@_copy_docstring_and_deprecators\u001b[39m(Axes\u001b[38;5;241m.\u001b[39mplot)\n\u001b[1;32m   2756\u001b[0m \u001b[38;5;28;01mdef\u001b[39;00m \u001b[38;5;21mplot\u001b[39m(\u001b[38;5;241m*\u001b[39margs, scalex\u001b[38;5;241m=\u001b[39m\u001b[38;5;28;01mTrue\u001b[39;00m, scaley\u001b[38;5;241m=\u001b[39m\u001b[38;5;28;01mTrue\u001b[39;00m, data\u001b[38;5;241m=\u001b[39m\u001b[38;5;28;01mNone\u001b[39;00m, \u001b[38;5;241m*\u001b[39m\u001b[38;5;241m*\u001b[39mkwargs):\n\u001b[0;32m-> 2757\u001b[0m     \u001b[38;5;28;01mreturn\u001b[39;00m \u001b[43mgca\u001b[49m\u001b[43m(\u001b[49m\u001b[43m)\u001b[49m\u001b[38;5;241;43m.\u001b[39;49m\u001b[43mplot\u001b[49m\u001b[43m(\u001b[49m\n\u001b[1;32m   2758\u001b[0m \u001b[43m        \u001b[49m\u001b[38;5;241;43m*\u001b[39;49m\u001b[43margs\u001b[49m\u001b[43m,\u001b[49m\u001b[43m \u001b[49m\u001b[43mscalex\u001b[49m\u001b[38;5;241;43m=\u001b[39;49m\u001b[43mscalex\u001b[49m\u001b[43m,\u001b[49m\u001b[43m \u001b[49m\u001b[43mscaley\u001b[49m\u001b[38;5;241;43m=\u001b[39;49m\u001b[43mscaley\u001b[49m\u001b[43m,\u001b[49m\n\u001b[1;32m   2759\u001b[0m \u001b[43m        \u001b[49m\u001b[38;5;241;43m*\u001b[39;49m\u001b[38;5;241;43m*\u001b[39;49m\u001b[43m(\u001b[49m\u001b[43m{\u001b[49m\u001b[38;5;124;43m\"\u001b[39;49m\u001b[38;5;124;43mdata\u001b[39;49m\u001b[38;5;124;43m\"\u001b[39;49m\u001b[43m:\u001b[49m\u001b[43m \u001b[49m\u001b[43mdata\u001b[49m\u001b[43m}\u001b[49m\u001b[43m \u001b[49m\u001b[38;5;28;43;01mif\u001b[39;49;00m\u001b[43m \u001b[49m\u001b[43mdata\u001b[49m\u001b[43m \u001b[49m\u001b[38;5;129;43;01mis\u001b[39;49;00m\u001b[43m \u001b[49m\u001b[38;5;129;43;01mnot\u001b[39;49;00m\u001b[43m \u001b[49m\u001b[38;5;28;43;01mNone\u001b[39;49;00m\u001b[43m \u001b[49m\u001b[38;5;28;43;01melse\u001b[39;49;00m\u001b[43m \u001b[49m\u001b[43m{\u001b[49m\u001b[43m}\u001b[49m\u001b[43m)\u001b[49m\u001b[43m,\u001b[49m\u001b[43m \u001b[49m\u001b[38;5;241;43m*\u001b[39;49m\u001b[38;5;241;43m*\u001b[39;49m\u001b[43mkwargs\u001b[49m\u001b[43m)\u001b[49m\n",
      "File \u001b[0;32m~/opt/anaconda3/lib/python3.9/site-packages/matplotlib/axes/_axes.py:1632\u001b[0m, in \u001b[0;36mAxes.plot\u001b[0;34m(self, scalex, scaley, data, *args, **kwargs)\u001b[0m\n\u001b[1;32m   1390\u001b[0m \u001b[38;5;124;03m\"\"\"\u001b[39;00m\n\u001b[1;32m   1391\u001b[0m \u001b[38;5;124;03mPlot y versus x as lines and/or markers.\u001b[39;00m\n\u001b[1;32m   1392\u001b[0m \n\u001b[0;32m   (...)\u001b[0m\n\u001b[1;32m   1629\u001b[0m \u001b[38;5;124;03m(``'green'``) or hex strings (``'#008000'``).\u001b[39;00m\n\u001b[1;32m   1630\u001b[0m \u001b[38;5;124;03m\"\"\"\u001b[39;00m\n\u001b[1;32m   1631\u001b[0m kwargs \u001b[38;5;241m=\u001b[39m cbook\u001b[38;5;241m.\u001b[39mnormalize_kwargs(kwargs, mlines\u001b[38;5;241m.\u001b[39mLine2D)\n\u001b[0;32m-> 1632\u001b[0m lines \u001b[38;5;241m=\u001b[39m [\u001b[38;5;241m*\u001b[39m\u001b[38;5;28mself\u001b[39m\u001b[38;5;241m.\u001b[39m_get_lines(\u001b[38;5;241m*\u001b[39margs, data\u001b[38;5;241m=\u001b[39mdata, \u001b[38;5;241m*\u001b[39m\u001b[38;5;241m*\u001b[39mkwargs)]\n\u001b[1;32m   1633\u001b[0m \u001b[38;5;28;01mfor\u001b[39;00m line \u001b[38;5;129;01min\u001b[39;00m lines:\n\u001b[1;32m   1634\u001b[0m     \u001b[38;5;28mself\u001b[39m\u001b[38;5;241m.\u001b[39madd_line(line)\n",
      "File \u001b[0;32m~/opt/anaconda3/lib/python3.9/site-packages/matplotlib/axes/_base.py:312\u001b[0m, in \u001b[0;36m_process_plot_var_args.__call__\u001b[0;34m(self, data, *args, **kwargs)\u001b[0m\n\u001b[1;32m    310\u001b[0m     this \u001b[38;5;241m+\u001b[39m\u001b[38;5;241m=\u001b[39m args[\u001b[38;5;241m0\u001b[39m],\n\u001b[1;32m    311\u001b[0m     args \u001b[38;5;241m=\u001b[39m args[\u001b[38;5;241m1\u001b[39m:]\n\u001b[0;32m--> 312\u001b[0m \u001b[38;5;28;01myield from\u001b[39;00m \u001b[38;5;28;43mself\u001b[39;49m\u001b[38;5;241;43m.\u001b[39;49m\u001b[43m_plot_args\u001b[49m\u001b[43m(\u001b[49m\u001b[43mthis\u001b[49m\u001b[43m,\u001b[49m\u001b[43m \u001b[49m\u001b[43mkwargs\u001b[49m\u001b[43m)\u001b[49m\n",
      "File \u001b[0;32m~/opt/anaconda3/lib/python3.9/site-packages/matplotlib/axes/_base.py:498\u001b[0m, in \u001b[0;36m_process_plot_var_args._plot_args\u001b[0;34m(self, tup, kwargs, return_kwargs)\u001b[0m\n\u001b[1;32m    495\u001b[0m     \u001b[38;5;28mself\u001b[39m\u001b[38;5;241m.\u001b[39maxes\u001b[38;5;241m.\u001b[39myaxis\u001b[38;5;241m.\u001b[39mupdate_units(y)\n\u001b[1;32m    497\u001b[0m \u001b[38;5;28;01mif\u001b[39;00m x\u001b[38;5;241m.\u001b[39mshape[\u001b[38;5;241m0\u001b[39m] \u001b[38;5;241m!=\u001b[39m y\u001b[38;5;241m.\u001b[39mshape[\u001b[38;5;241m0\u001b[39m]:\n\u001b[0;32m--> 498\u001b[0m     \u001b[38;5;28;01mraise\u001b[39;00m \u001b[38;5;167;01mValueError\u001b[39;00m(\u001b[38;5;124mf\u001b[39m\u001b[38;5;124m\"\u001b[39m\u001b[38;5;124mx and y must have same first dimension, but \u001b[39m\u001b[38;5;124m\"\u001b[39m\n\u001b[1;32m    499\u001b[0m                      \u001b[38;5;124mf\u001b[39m\u001b[38;5;124m\"\u001b[39m\u001b[38;5;124mhave shapes \u001b[39m\u001b[38;5;132;01m{\u001b[39;00mx\u001b[38;5;241m.\u001b[39mshape\u001b[38;5;132;01m}\u001b[39;00m\u001b[38;5;124m and \u001b[39m\u001b[38;5;132;01m{\u001b[39;00my\u001b[38;5;241m.\u001b[39mshape\u001b[38;5;132;01m}\u001b[39;00m\u001b[38;5;124m\"\u001b[39m)\n\u001b[1;32m    500\u001b[0m \u001b[38;5;28;01mif\u001b[39;00m x\u001b[38;5;241m.\u001b[39mndim \u001b[38;5;241m>\u001b[39m \u001b[38;5;241m2\u001b[39m \u001b[38;5;129;01mor\u001b[39;00m y\u001b[38;5;241m.\u001b[39mndim \u001b[38;5;241m>\u001b[39m \u001b[38;5;241m2\u001b[39m:\n\u001b[1;32m    501\u001b[0m     \u001b[38;5;28;01mraise\u001b[39;00m \u001b[38;5;167;01mValueError\u001b[39;00m(\u001b[38;5;124mf\u001b[39m\u001b[38;5;124m\"\u001b[39m\u001b[38;5;124mx and y can be no greater than 2D, but have \u001b[39m\u001b[38;5;124m\"\u001b[39m\n\u001b[1;32m    502\u001b[0m                      \u001b[38;5;124mf\u001b[39m\u001b[38;5;124m\"\u001b[39m\u001b[38;5;124mshapes \u001b[39m\u001b[38;5;132;01m{\u001b[39;00mx\u001b[38;5;241m.\u001b[39mshape\u001b[38;5;132;01m}\u001b[39;00m\u001b[38;5;124m and \u001b[39m\u001b[38;5;132;01m{\u001b[39;00my\u001b[38;5;241m.\u001b[39mshape\u001b[38;5;132;01m}\u001b[39;00m\u001b[38;5;124m\"\u001b[39m)\n",
      "\u001b[0;31mValueError\u001b[0m: x and y must have same first dimension, but have shapes (755,) and (0,)"
     ]
    },
    {
     "data": {
      "image/png": "[encoded data removed]",
      "text/plain": [
       "<Figure size 432x288 with 1 Axes>"
      ]
     },
     "metadata": {},
     "output_type": "display_data"
    }
   ],
   "source": [
    "# Plotting cumulative sum of portfolio returns\n",
    "cumulative_portfolio_returns = np.cumsum(portfolio_returns)\n",
    "plt.plot(my_dates, cumulative_portfolio_returns)\n",
    "plt.xlabel('Date')\n",
    "plt.ylabel('Cumulative Portfolio Returns')\n",
    "plt.title('Cumulative Portfolio Returns over Time')\n",
    "plt.show()"
   ]
  },
  {
   "cell_type": "markdown",
   "metadata": {},
   "source": [
    "## Extra Credit Problem"
   ]
  },
  {
   "cell_type": "code",
   "execution_count": null,
   "metadata": {},
   "outputs": [],
   "source": [
    "# Plotting long/short/net in dollars\n",
    "long_short_net = np.sum(portfolio_weights, axis=1)\n",
    "plt.plot(my_dates, long_short_net)\n",
    "plt.xlabel('Date')\n",
    "plt.ylabel('Long/Short/Net in Dollars')\n",
    "plt.title('Long/Short/Net in Dollars over Time')\n",
    "plt.show()\n",
    "\n",
    "# Plotting number of holdings\n",
    "num_holdings = len(portfolio_weights)\n",
    "plt.plot(my_dates, num_holdings)\n",
    "plt.xlabel('Date')\n",
    "plt.ylabel('Number of Holdings')\n",
    "plt.title('Number of Holdings over Time')\n",
    "plt.show()\n",
    "\n",
    "# Plotting factor model's predicted volatility of the portfolio\n",
    "portfolio_volatility = np.sqrt(np.dot(portfolio_weights.T, inv_covariance) @ portfolio_weights)\n",
    "plt.plot(my_dates, portfolio_volatility)\n",
    "plt.xlabel('Date')\n",
    "plt.ylabel('Portfolio Volatility')\n",
    "plt.title('Portfolio Volatility over Time')\n",
    "plt.show()\n",
    "\n",
    "# Plotting percent of variance from idio, style, industry\n",
    "idio_variance = np.var(estu['Ret'] - np.dot(portfolio_weights.flatten(), estu['Ret']))\n",
    "style_variance = np.var(estu['Ret'] - np.dot(portfolio_weights.flatten(), estu['Ret'])) - idio_variance\n",
    "industry_variance = np.var(estu['Ret'] - np.dot(portfolio_weights.flatten(), estu['Ret'])) - idio_variance - style_variance\n",
    "plt.plot(my_dates, idio_variance, label='Idiosyncratic Risk')\n",
    "plt.plot(my_dates, style_variance, label='Style Risk')\n",
    "plt.plot(my_dates, industry_variance, label='Industry Risk')\n",
    "plt.xlabel('Date')\n",
    "plt.ylabel('Percent of Variance')\n",
    "plt.title('Percent of Variance from Idio, Style, Industry over Time')\n",
    "plt.legend()\n",
    "plt.show()"
   ]
  }
 ],
 "metadata": {
  "kernelspec": {
   "display_name": "Python 3 (ipykernel)",
   "language": "python",
   "name": "python3"
  },
  "language_info": {
   "codemirror_mode": {
    "name": "ipython",
    "version": 3
   },
   "file_extension": ".py",
   "mimetype": "text/x-python",
   "name": "python",
   "nbconvert_exporter": "python",
   "pygments_lexer": "ipython3",
   "version": "3.9.12"
  }
 },
 "nbformat": 4,
 "nbformat_minor": 2
}
